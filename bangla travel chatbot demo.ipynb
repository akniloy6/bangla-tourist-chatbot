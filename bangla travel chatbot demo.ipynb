{
 "cells": [
  {
   "cell_type": "markdown",
   "id": "8cd0bfc3",
   "metadata": {},
   "source": [
    "# Bangla Travel Chatbot\n",
    "\n",
    "This is a demo chatbot that answers questions related to travelling inside Bangladesh. The chatbot currently answers from a fix pool of questions or related questions. It will be made context aware in the future using word embeddings.\n",
    "\n",
    "\n",
    "Collaborators: Shuvo Saha Roy, AK Niloy\n"
   ]
  },
  {
   "cell_type": "markdown",
   "id": "a8acca48",
   "metadata": {},
   "source": [
    "Import necessary libraries"
   ]
  },
  {
   "cell_type": "code",
   "execution_count": 1,
   "id": "c5c5ce6c",
   "metadata": {},
   "outputs": [],
   "source": [
    "import tensorflow as tf\n",
    "import pandas as pd\n",
    "import numpy as np\n",
    "import os\n",
    "import io\n",
    "import nltk\n",
    "from tensorflow.keras.preprocessing.text import Tokenizer\n",
    "from tensorflow.keras.layers import Input, Embedding, LSTM , Dense,GlobalAveragePooling1D,Flatten, Dropout , GRU\n",
    "from tensorflow.keras.models import Sequential\n",
    "import matplotlib.pyplot as plt\n",
    "from tensorflow.keras.preprocessing.text import Tokenizer\n",
    "from tensorflow.keras.preprocessing.sequence import pad_sequences\n",
    "from sklearn.preprocessing import LabelEncoder\n",
    "from tensorflow.keras.layers import Conv1D, MaxPool1D"
   ]
  },
  {
   "cell_type": "markdown",
   "id": "0edba4e9",
   "metadata": {},
   "source": [
    "Read dataset"
   ]
  },
  {
   "cell_type": "code",
   "execution_count": 2,
   "id": "c04f498e",
   "metadata": {},
   "outputs": [
    {
     "data": {
      "text/html": [
       "<div>\n",
       "<style scoped>\n",
       "    .dataframe tbody tr th:only-of-type {\n",
       "        vertical-align: middle;\n",
       "    }\n",
       "\n",
       "    .dataframe tbody tr th {\n",
       "        vertical-align: top;\n",
       "    }\n",
       "\n",
       "    .dataframe thead th {\n",
       "        text-align: right;\n",
       "    }\n",
       "</style>\n",
       "<table border=\"1\" class=\"dataframe\">\n",
       "  <thead>\n",
       "    <tr style=\"text-align: right;\">\n",
       "      <th></th>\n",
       "      <th>question</th>\n",
       "      <th>tags</th>\n",
       "    </tr>\n",
       "  </thead>\n",
       "  <tbody>\n",
       "    <tr>\n",
       "      <th>0</th>\n",
       "      <td>What is the duration required for a bus journe...</td>\n",
       "      <td>time_duration_by_bus</td>\n",
       "    </tr>\n",
       "    <tr>\n",
       "      <th>1</th>\n",
       "      <td>Can you tell me how long it takes to travel fr...</td>\n",
       "      <td>time_duration_by_bus</td>\n",
       "    </tr>\n",
       "    <tr>\n",
       "      <th>2</th>\n",
       "      <td>How much time does a bus journey from Dhaka to...</td>\n",
       "      <td>time_duration_by_bus</td>\n",
       "    </tr>\n",
       "    <tr>\n",
       "      <th>3</th>\n",
       "      <td>What's the estimated travel time from Dhaka to...</td>\n",
       "      <td>time_duration_by_bus</td>\n",
       "    </tr>\n",
       "    <tr>\n",
       "      <th>4</th>\n",
       "      <td>Could you inform me about the duration of a bu...</td>\n",
       "      <td>time_duration_by_bus</td>\n",
       "    </tr>\n",
       "  </tbody>\n",
       "</table>\n",
       "</div>"
      ],
      "text/plain": [
       "                                            question                  tags\n",
       "0  What is the duration required for a bus journe...  time_duration_by_bus\n",
       "1  Can you tell me how long it takes to travel fr...  time_duration_by_bus\n",
       "2  How much time does a bus journey from Dhaka to...  time_duration_by_bus\n",
       "3  What's the estimated travel time from Dhaka to...  time_duration_by_bus\n",
       "4  Could you inform me about the duration of a bu...  time_duration_by_bus"
      ]
     },
     "execution_count": 2,
     "metadata": {},
     "output_type": "execute_result"
    }
   ],
   "source": [
    "dataset = pd.read_excel(\"QA_data.xlsx\")\n",
    "# dataset = dataset.sample(frac=1)\n",
    "dataset.head()"
   ]
  },
  {
   "cell_type": "code",
   "execution_count": 3,
   "id": "0a684692",
   "metadata": {},
   "outputs": [],
   "source": [
    "import string\n",
    "dataset['question'] = dataset['question'].apply(lambda sequence:\n",
    "                                            [ltrs.lower() for ltrs in sequence if ltrs not in string.punctuation])"
   ]
  },
  {
   "cell_type": "code",
   "execution_count": 4,
   "id": "6b7d1391",
   "metadata": {},
   "outputs": [
    {
     "data": {
      "text/html": [
       "<div>\n",
       "<style scoped>\n",
       "    .dataframe tbody tr th:only-of-type {\n",
       "        vertical-align: middle;\n",
       "    }\n",
       "\n",
       "    .dataframe tbody tr th {\n",
       "        vertical-align: top;\n",
       "    }\n",
       "\n",
       "    .dataframe thead th {\n",
       "        text-align: right;\n",
       "    }\n",
       "</style>\n",
       "<table border=\"1\" class=\"dataframe\">\n",
       "  <thead>\n",
       "    <tr style=\"text-align: right;\">\n",
       "      <th></th>\n",
       "      <th>question</th>\n",
       "      <th>tags</th>\n",
       "    </tr>\n",
       "  </thead>\n",
       "  <tbody>\n",
       "    <tr>\n",
       "      <th>0</th>\n",
       "      <td>[w, h, a, t,  , i, s,  , t, h, e,  , d, u, r, ...</td>\n",
       "      <td>time_duration_by_bus</td>\n",
       "    </tr>\n",
       "    <tr>\n",
       "      <th>1</th>\n",
       "      <td>[c, a, n,  , y, o, u,  , t, e, l, l,  , m, e, ...</td>\n",
       "      <td>time_duration_by_bus</td>\n",
       "    </tr>\n",
       "    <tr>\n",
       "      <th>2</th>\n",
       "      <td>[h, o, w,  , m, u, c, h,  , t, i, m, e,  , d, ...</td>\n",
       "      <td>time_duration_by_bus</td>\n",
       "    </tr>\n",
       "    <tr>\n",
       "      <th>3</th>\n",
       "      <td>[w, h, a, t, s,  , t, h, e,  , e, s, t, i, m, ...</td>\n",
       "      <td>time_duration_by_bus</td>\n",
       "    </tr>\n",
       "    <tr>\n",
       "      <th>4</th>\n",
       "      <td>[c, o, u, l, d,  , y, o, u,  , i, n, f, o, r, ...</td>\n",
       "      <td>time_duration_by_bus</td>\n",
       "    </tr>\n",
       "  </tbody>\n",
       "</table>\n",
       "</div>"
      ],
      "text/plain": [
       "                                            question                  tags\n",
       "0  [w, h, a, t,  , i, s,  , t, h, e,  , d, u, r, ...  time_duration_by_bus\n",
       "1  [c, a, n,  , y, o, u,  , t, e, l, l,  , m, e, ...  time_duration_by_bus\n",
       "2  [h, o, w,  , m, u, c, h,  , t, i, m, e,  , d, ...  time_duration_by_bus\n",
       "3  [w, h, a, t, s,  , t, h, e,  , e, s, t, i, m, ...  time_duration_by_bus\n",
       "4  [c, o, u, l, d,  , y, o, u,  , i, n, f, o, r, ...  time_duration_by_bus"
      ]
     },
     "execution_count": 4,
     "metadata": {},
     "output_type": "execute_result"
    }
   ],
   "source": [
    "dataset.head()"
   ]
  },
  {
   "cell_type": "code",
   "execution_count": 5,
   "id": "7f0a8ff9",
   "metadata": {},
   "outputs": [
    {
     "data": {
      "text/html": [
       "<div>\n",
       "<style scoped>\n",
       "    .dataframe tbody tr th:only-of-type {\n",
       "        vertical-align: middle;\n",
       "    }\n",
       "\n",
       "    .dataframe tbody tr th {\n",
       "        vertical-align: top;\n",
       "    }\n",
       "\n",
       "    .dataframe thead th {\n",
       "        text-align: right;\n",
       "    }\n",
       "</style>\n",
       "<table border=\"1\" class=\"dataframe\">\n",
       "  <thead>\n",
       "    <tr style=\"text-align: right;\">\n",
       "      <th></th>\n",
       "      <th>question</th>\n",
       "      <th>tags</th>\n",
       "    </tr>\n",
       "  </thead>\n",
       "  <tbody>\n",
       "    <tr>\n",
       "      <th>0</th>\n",
       "      <td>what is the duration required for a bus journe...</td>\n",
       "      <td>time_duration_by_bus</td>\n",
       "    </tr>\n",
       "    <tr>\n",
       "      <th>1</th>\n",
       "      <td>can you tell me how long it takes to travel fr...</td>\n",
       "      <td>time_duration_by_bus</td>\n",
       "    </tr>\n",
       "    <tr>\n",
       "      <th>2</th>\n",
       "      <td>how much time does a bus journey from dhaka to...</td>\n",
       "      <td>time_duration_by_bus</td>\n",
       "    </tr>\n",
       "    <tr>\n",
       "      <th>3</th>\n",
       "      <td>whats the estimated travel time from dhaka to ...</td>\n",
       "      <td>time_duration_by_bus</td>\n",
       "    </tr>\n",
       "    <tr>\n",
       "      <th>4</th>\n",
       "      <td>could you inform me about the duration of a bu...</td>\n",
       "      <td>time_duration_by_bus</td>\n",
       "    </tr>\n",
       "  </tbody>\n",
       "</table>\n",
       "</div>"
      ],
      "text/plain": [
       "                                            question                  tags\n",
       "0  what is the duration required for a bus journe...  time_duration_by_bus\n",
       "1  can you tell me how long it takes to travel fr...  time_duration_by_bus\n",
       "2  how much time does a bus journey from dhaka to...  time_duration_by_bus\n",
       "3  whats the estimated travel time from dhaka to ...  time_duration_by_bus\n",
       "4  could you inform me about the duration of a bu...  time_duration_by_bus"
      ]
     },
     "execution_count": 5,
     "metadata": {},
     "output_type": "execute_result"
    }
   ],
   "source": [
    "dataset['question'] = dataset['question'].apply(lambda wrd: ''.join(wrd))\n",
    "dataset.head()"
   ]
  },
  {
   "cell_type": "code",
   "execution_count": 6,
   "id": "c4032abf",
   "metadata": {},
   "outputs": [],
   "source": [
    "tokenizer = Tokenizer(num_words=1000)\n",
    "tokenizer.fit_on_texts(dataset['question'])\n",
    "train = tokenizer.texts_to_sequences(dataset['question'])\n",
    "features = pad_sequences(train)\n",
    "le = LabelEncoder()\n",
    "labels = le.fit_transform(dataset['tags'])"
   ]
  },
  {
   "cell_type": "code",
   "execution_count": 7,
   "id": "876e2854",
   "metadata": {},
   "outputs": [
    {
     "data": {
      "text/plain": [
       "'time_duration_by_bus'"
      ]
     },
     "execution_count": 7,
     "metadata": {},
     "output_type": "execute_result"
    }
   ],
   "source": [
    "tags = le.inverse_transform(labels)[0]\n",
    "tags"
   ]
  },
  {
   "cell_type": "code",
   "execution_count": 8,
   "id": "e71667c9",
   "metadata": {},
   "outputs": [
    {
     "data": {
      "text/plain": [
       "23"
      ]
     },
     "execution_count": 8,
     "metadata": {},
     "output_type": "execute_result"
    }
   ],
   "source": [
    "len(features[0])"
   ]
  },
  {
   "cell_type": "code",
   "execution_count": 9,
   "id": "ccf50af1",
   "metadata": {},
   "outputs": [
    {
     "name": "stdout",
     "output_type": "stream",
     "text": [
      "23\n"
     ]
    }
   ],
   "source": [
    "input_shape = features.shape[1]\n",
    "print(input_shape)"
   ]
  },
  {
   "cell_type": "code",
   "execution_count": 10,
   "id": "c8cf630d",
   "metadata": {
    "scrolled": true
   },
   "outputs": [
    {
     "data": {
      "text/plain": [
       "(872, 23)"
      ]
     },
     "execution_count": 10,
     "metadata": {},
     "output_type": "execute_result"
    }
   ],
   "source": [
    "features.shape"
   ]
  },
  {
   "cell_type": "code",
   "execution_count": 11,
   "id": "2655dadc",
   "metadata": {
    "scrolled": true
   },
   "outputs": [
    {
     "name": "stdout",
     "output_type": "stream",
     "text": [
      "number of unique words :  674\n",
      "output length:  12\n"
     ]
    }
   ],
   "source": [
    "vocabulary = len(tokenizer.word_index)\n",
    "print(\"number of unique words : \",vocabulary)\n",
    "output_length = le.classes_.shape[0]\n",
    "print(\"output length: \",output_length)"
   ]
  },
  {
   "cell_type": "code",
   "execution_count": 12,
   "id": "af0c239b",
   "metadata": {
    "scrolled": true
   },
   "outputs": [
    {
     "data": {
      "text/plain": [
       "{'the': 1,\n",
       " 'coxs': 2,\n",
       " 'bazar': 3,\n",
       " 'in': 4,\n",
       " 'for': 5,\n",
       " 'are': 6,\n",
       " 'what': 7,\n",
       " 'which': 8,\n",
       " 'to': 9,\n",
       " 'and': 10,\n",
       " 'is': 11,\n",
       " 'of': 12,\n",
       " 'dhaka': 13,\n",
       " 'from': 14,\n",
       " 'traditional': 15,\n",
       " 'that': 16,\n",
       " 'this': 17,\n",
       " 'a': 18,\n",
       " 'town': 19,\n",
       " 'most': 20,\n",
       " 'suitable': 21,\n",
       " 'resorts': 22,\n",
       " 'their': 23,\n",
       " 'time': 24,\n",
       " 'or': 25,\n",
       " 'recommended': 26,\n",
       " 'tourists': 27,\n",
       " 'comfortable': 28,\n",
       " 'travel': 29,\n",
       " 'can': 30,\n",
       " 'bus': 31,\n",
       " 'offer': 32,\n",
       " 'food': 33,\n",
       " 'coxbazar': 34,\n",
       " 'dress': 35,\n",
       " 'season': 36,\n",
       " 'journey': 37,\n",
       " 'options': 38,\n",
       " 'suitability': 39,\n",
       " 'how': 40,\n",
       " 'tourist': 41,\n",
       " 'i': 42,\n",
       " 'known': 43,\n",
       " 'you': 44,\n",
       " 'attire': 45,\n",
       " 'best': 46,\n",
       " 'stay': 47,\n",
       " 'clothing': 48,\n",
       " 'shops': 49,\n",
       " 'experience': 50,\n",
       " 'preferred': 51,\n",
       " 'traveling': 52,\n",
       " 'by': 53,\n",
       " 'provide': 54,\n",
       " 'spots': 55,\n",
       " 'resort': 56,\n",
       " 'specific': 57,\n",
       " 'transportation': 58,\n",
       " 'have': 59,\n",
       " 'where': 60,\n",
       " 'popular': 61,\n",
       " 'costeffective': 62,\n",
       " 'be': 63,\n",
       " 'culinary': 64,\n",
       " 'mode': 65,\n",
       " 'highly': 66,\n",
       " 'hotels': 67,\n",
       " 'restaurants': 68,\n",
       " 'there': 69,\n",
       " 'cultural': 70,\n",
       " 'indigenous': 71,\n",
       " 'spot': 72,\n",
       " 'both': 73,\n",
       " 'area': 74,\n",
       " 'dining': 75,\n",
       " 'dishes': 76,\n",
       " 'trip': 77,\n",
       " 'between': 78,\n",
       " 'when': 79,\n",
       " 'transport': 80,\n",
       " 'famous': 81,\n",
       " 'renowned': 82,\n",
       " 'native': 83,\n",
       " 'flight': 84,\n",
       " 'find': 85,\n",
       " 'it': 86,\n",
       " 'stores': 87,\n",
       " 'on': 88,\n",
       " 'any': 89,\n",
       " 'heritage': 90,\n",
       " 'whats': 91,\n",
       " 'would': 92,\n",
       " 'secure': 93,\n",
       " 'comfort': 94,\n",
       " 'safety': 95,\n",
       " 'hotel': 96,\n",
       " 'prices': 97,\n",
       " 'should': 98,\n",
       " 'do': 99,\n",
       " 'particular': 100,\n",
       " 'safe': 101,\n",
       " 'option': 102,\n",
       " 'among': 103,\n",
       " 'establishments': 104,\n",
       " 'customary': 105,\n",
       " 'people': 106,\n",
       " 'affordable': 107,\n",
       " 'me': 108,\n",
       " 'offers': 109,\n",
       " 'reliable': 110,\n",
       " 'considered': 111,\n",
       " 'top': 112,\n",
       " 'bazars': 113,\n",
       " 'outfits': 114,\n",
       " 'duration': 115,\n",
       " 'ideal': 116,\n",
       " 'service': 117,\n",
       " 'attractions': 118,\n",
       " 'places': 119,\n",
       " 'place': 120,\n",
       " 'some': 121,\n",
       " 'toprated': 122,\n",
       " 'memorable': 123,\n",
       " 'cuisine': 124,\n",
       " 'at': 125,\n",
       " 'kind': 126,\n",
       " 'here': 127,\n",
       " 'traditionally': 128,\n",
       " 'take': 129,\n",
       " 'with': 130,\n",
       " 'an': 131,\n",
       " 'without': 132,\n",
       " 'required': 133,\n",
       " 'long': 134,\n",
       " 'riskfree': 135,\n",
       " 'way': 136,\n",
       " 'showcase': 137,\n",
       " 'amenities': 138,\n",
       " 'much': 139,\n",
       " 'provides': 140,\n",
       " 'traditions': 141,\n",
       " 'local': 142,\n",
       " 'choices': 143,\n",
       " 'accommodations': 144,\n",
       " 'garments': 145,\n",
       " 'while': 146,\n",
       " 'affordability': 147,\n",
       " 'recommend': 148,\n",
       " 'convenient': 149,\n",
       " 'company': 150,\n",
       " 'its': 151,\n",
       " 'historical': 152,\n",
       " 'budgetfriendly': 153,\n",
       " 'foods': 154,\n",
       " 'culture': 155,\n",
       " 'suggest': 156,\n",
       " 'does': 157,\n",
       " 'air': 158,\n",
       " 'go': 159,\n",
       " 'passenger': 160,\n",
       " 'attraction': 161,\n",
       " 'value': 162,\n",
       " 'flavors': 163,\n",
       " 'items': 164,\n",
       " 'who': 165,\n",
       " 'many': 166,\n",
       " 'reach': 167,\n",
       " 'back': 168,\n",
       " 'method': 169,\n",
       " 'safest': 170,\n",
       " 'worryfree': 171,\n",
       " 'ensures': 172,\n",
       " 'destinations': 173,\n",
       " 'landmarks': 174,\n",
       " 'significance': 175,\n",
       " 'exceptional': 176,\n",
       " 'facilities': 177,\n",
       " 'relaxing': 178,\n",
       " 'money': 179,\n",
       " 'groups': 180,\n",
       " 'type': 181,\n",
       " 'typically': 182,\n",
       " 'my': 183,\n",
       " 'hours': 184,\n",
       " 'day': 185,\n",
       " 'appropriate': 186,\n",
       " 'optimal': 187,\n",
       " 'fit': 188,\n",
       " 'guarantees': 189,\n",
       " 'visitors': 190,\n",
       " 'iconic': 191,\n",
       " 'travelers': 192,\n",
       " 'wellknown': 193,\n",
       " 'natural': 194,\n",
       " 'enthusiasts': 195,\n",
       " 'region': 196,\n",
       " 'services': 197,\n",
       " 'pleasant': 198,\n",
       " 'eateries': 199,\n",
       " 'joints': 200,\n",
       " 'tradition': 201,\n",
       " 'peoples': 202,\n",
       " 'land': 203,\n",
       " 'worn': 204,\n",
       " 'compromising': 205,\n",
       " 'comes': 206,\n",
       " 'takes': 207,\n",
       " 'estimated': 208,\n",
       " 'could': 209,\n",
       " 'about': 210,\n",
       " 'im': 211,\n",
       " 'know': 212,\n",
       " 'fly': 213,\n",
       " 'year': 214,\n",
       " 'wellsuited': 215,\n",
       " 'lowrisk': 216,\n",
       " 'operator': 217,\n",
       " 'route': 218,\n",
       " 'attract': 219,\n",
       " 'mustvisit': 220,\n",
       " 'interest': 221,\n",
       " 'destination': 222,\n",
       " 'visit': 223,\n",
       " 'recreational': 224,\n",
       " 'views': 225,\n",
       " 'sites': 226,\n",
       " 'site': 227,\n",
       " 'terms': 228,\n",
       " 'customs': 229,\n",
       " 'communities': 230,\n",
       " 'inhabitants': 231,\n",
       " 'tribes': 232,\n",
       " 'specialize': 233,\n",
       " 'ensuring': 234,\n",
       " 'being': 235,\n",
       " 'balance': 236,\n",
       " 'tell': 237,\n",
       " 'average': 238,\n",
       " 'favorable': 239,\n",
       " 'perfect': 240,\n",
       " 'means': 241,\n",
       " 'choice': 242,\n",
       " 'available': 243,\n",
       " 'maintaining': 244,\n",
       " 'goto': 245,\n",
       " 'delightful': 246,\n",
       " 'passed': 247,\n",
       " 'still': 248,\n",
       " 'living': 249,\n",
       " 'residing': 250,\n",
       " 'cultures': 251,\n",
       " 'community': 252,\n",
       " 'budget': 253,\n",
       " 'strike': 254,\n",
       " 'good': 255,\n",
       " 'give': 256,\n",
       " 'need': 257,\n",
       " 'will': 258,\n",
       " 'frame': 259,\n",
       " 'vice': 260,\n",
       " 'versa': 261,\n",
       " 'peace': 262,\n",
       " 'mind': 263,\n",
       " 'standards': 264,\n",
       " 'during': 265,\n",
       " 'essence': 266,\n",
       " 'scenic': 267,\n",
       " 'landscapes': 268,\n",
       " 'architectural': 269,\n",
       " 'favored': 270,\n",
       " 'ambiance': 271,\n",
       " 'hold': 272,\n",
       " 'rich': 273,\n",
       " 'breathtaking': 274,\n",
       " 'attention': 275,\n",
       " 'favorites': 276,\n",
       " 'as': 277,\n",
       " 'accommodation': 278,\n",
       " 'quality': 279,\n",
       " 'delicious': 280,\n",
       " 'delectable': 281,\n",
       " 'experiences': 282,\n",
       " 'gastronomic': 283,\n",
       " 'celebrated': 284,\n",
       " 'meals': 285,\n",
       " 'authentic': 286,\n",
       " 'musttry': 287,\n",
       " 'recipes': 288,\n",
       " 'down': 289,\n",
       " 'through': 290,\n",
       " 'generations': 291,\n",
       " 'identity': 292,\n",
       " 'carry': 293,\n",
       " 'found': 294,\n",
       " 'populations': 295,\n",
       " 'original': 296,\n",
       " 'roots': 297,\n",
       " 'societies': 298,\n",
       " 'tribal': 299,\n",
       " 'territory': 300,\n",
       " 'ancestral': 301,\n",
       " 'robes': 302,\n",
       " 'associated': 303,\n",
       " 'inform': 304,\n",
       " 'approximate': 305,\n",
       " 'needed': 306,\n",
       " 'get': 307,\n",
       " 'curious': 308,\n",
       " 'expect': 309,\n",
       " 'estimate': 310,\n",
       " 'commitment': 311,\n",
       " 'slot': 312,\n",
       " 'month': 313,\n",
       " 'opportune': 314,\n",
       " 'advantageous': 315,\n",
       " 'advisable': 316,\n",
       " 'desirable': 317,\n",
       " 'combines': 318,\n",
       " 'security': 319,\n",
       " 'trustworthy': 320,\n",
       " 'high': 321,\n",
       " 'shouldnt': 322,\n",
       " 'sights': 323,\n",
       " 'contribute': 324,\n",
       " 'popularity': 325,\n",
       " 'every': 326,\n",
       " 'visiting': 327,\n",
       " 'beauty': 328,\n",
       " 'highlights': 329,\n",
       " 'unique': 330,\n",
       " 'mustsee': 331,\n",
       " 'leisure': 332,\n",
       " 'activities': 333,\n",
       " 'wellloved': 334,\n",
       " 'coxbazars': 335,\n",
       " 'frequented': 336,\n",
       " 'insights': 337,\n",
       " 'into': 338,\n",
       " 'tranquil': 339,\n",
       " 'outdoor': 340,\n",
       " 'exploration': 341,\n",
       " 'entertainment': 342,\n",
       " 'nature': 343,\n",
       " 'capture': 344,\n",
       " 'retreat': 345,\n",
       " 'regions': 346,\n",
       " 'unforgettable': 347,\n",
       " 'landmark': 348,\n",
       " 'highlight': 349,\n",
       " 'topnotch': 350,\n",
       " 'satisfying': 351,\n",
       " 'convenience': 352,\n",
       " 'lodging': 353,\n",
       " 'recommendations': 354,\n",
       " 'getaway': 355,\n",
       " 'shopping': 356,\n",
       " 'regarded': 357,\n",
       " 'excellence': 358,\n",
       " 'offerings': 359,\n",
       " 'locals': 360,\n",
       " 'ingredients': 361,\n",
       " 'enjoy': 362,\n",
       " 'specialties': 363,\n",
       " 'preparations': 364,\n",
       " 'longstanding': 365,\n",
       " 'legacy': 366,\n",
       " 'historically': 367,\n",
       " 'nations': 368,\n",
       " 'thrived': 369,\n",
       " 'code': 370,\n",
       " 'range': 371,\n",
       " 'reasonable': 372,\n",
       " 'also': 373,\n",
       " 'selection': 374,\n",
       " 'offering': 375,\n",
       " 'needs': 376,\n",
       " 'remaining': 377,\n",
       " 'let': 378,\n",
       " 'typical': 379,\n",
       " 'spend': 380,\n",
       " 'expected': 381,\n",
       " 'if': 382,\n",
       " 'choose': 383,\n",
       " 'id': 384,\n",
       " 'like': 385,\n",
       " 'allocate': 386,\n",
       " 'planning': 387,\n",
       " 'approximation': 388,\n",
       " 'flying': 389,\n",
       " 'period': 390,\n",
       " 'embark': 391,\n",
       " 'fitting': 392,\n",
       " 'suited': 393,\n",
       " 'hasslefree': 394,\n",
       " 'form': 395,\n",
       " 'comfortably': 396,\n",
       " 'risks': 397,\n",
       " 'providing': 398,\n",
       " 'dependable': 399,\n",
       " 'highest': 400,\n",
       " 'draw': 401,\n",
       " 'large': 402,\n",
       " 'number': 403,\n",
       " 'make': 404,\n",
       " 'visited': 405,\n",
       " 'points': 406,\n",
       " 'favorite': 407,\n",
       " 'diversity': 408,\n",
       " 'embody': 409,\n",
       " 'stunning': 410,\n",
       " 'picturesque': 411,\n",
       " 'brilliance': 412,\n",
       " 'captivating': 413,\n",
       " 'wonders': 414,\n",
       " 'serene': 415,\n",
       " 'opportunities': 416,\n",
       " 'adventures': 417,\n",
       " 'beaches': 418,\n",
       " 'coastal': 419,\n",
       " 'areas': 420,\n",
       " 'experiencing': 421,\n",
       " 'vibrant': 422,\n",
       " 'markets': 423,\n",
       " 'religious': 424,\n",
       " 'reserves': 425,\n",
       " 'wildlife': 426,\n",
       " 'sanctuaries': 427,\n",
       " 'marvels': 428,\n",
       " 'viewpoints': 429,\n",
       " 'observation': 430,\n",
       " 'decks': 431,\n",
       " 'panoramic': 432,\n",
       " 'vistas': 433,\n",
       " 'waterfalls': 434,\n",
       " 'parks': 435,\n",
       " 'gardens': 436,\n",
       " 'museums': 437,\n",
       " 'past': 438,\n",
       " 'soughtafter': 439,\n",
       " 'missed': 440,\n",
       " 'list': 441,\n",
       " 'special': 442,\n",
       " 'exemplify': 443,\n",
       " 'hotspot': 444,\n",
       " 'prime': 445,\n",
       " 'stands': 446,\n",
       " 'out': 447,\n",
       " 'selections': 448,\n",
       " 'enjoyable': 449,\n",
       " 'luxurious': 450,\n",
       " 'romantic': 451,\n",
       " 'families': 452,\n",
       " 'proximity': 453,\n",
       " 'lovers': 454,\n",
       " 'vacation': 455,\n",
       " 'topranked': 456,\n",
       " 'delights': 457,\n",
       " 'creations': 458,\n",
       " 'serve': 459,\n",
       " 'praised': 460,\n",
       " 'become': 461,\n",
       " 'synonymous': 462,\n",
       " 'blend': 463,\n",
       " 'taste': 464,\n",
       " 'dine': 465,\n",
       " 'savor': 466,\n",
       " 'delicacies': 467,\n",
       " 'represent': 468,\n",
       " 'gastronomy': 469,\n",
       " 'been': 470,\n",
       " 'used': 471,\n",
       " 'reflect': 472,\n",
       " 'stood': 473,\n",
       " 'test': 474,\n",
       " 'part': 475,\n",
       " 'cooking': 476,\n",
       " 'techniques': 477,\n",
       " 'practices': 478,\n",
       " 'deeply': 479,\n",
       " 'rooted': 480,\n",
       " 'define': 481,\n",
       " 'symbolize': 482,\n",
       " 'home': 483,\n",
       " 'presence': 484,\n",
       " 'settled': 485,\n",
       " 'connection': 486,\n",
       " 'vicinity': 487,\n",
       " 'bands': 488,\n",
       " 'ties': 489,\n",
       " 'connections': 490,\n",
       " 'society': 491,\n",
       " 'accordance': 492,\n",
       " 'represents': 493,\n",
       " 'communitys': 494,\n",
       " 'honor': 495,\n",
       " 'occasions': 496,\n",
       " 'adherence': 497,\n",
       " 'reflective': 498,\n",
       " 'societys': 499,\n",
       " 'express': 500,\n",
       " 'ancestors': 501,\n",
       " 'values': 502,\n",
       " 'generation': 503,\n",
       " 'sacrificing': 504,\n",
       " 'wide': 505,\n",
       " 'pocketfriendly': 506,\n",
       " 'shop': 507,\n",
       " 'diverse': 508,\n",
       " 'breaking': 509,\n",
       " 'bank': 510,\n",
       " 'reasonably': 511,\n",
       " 'priced': 512,\n",
       " 'yet': 513,\n",
       " 'wondering': 514,\n",
       " 'idea': 515,\n",
       " 'ride': 516,\n",
       " 'including': 517,\n",
       " 'traffic': 518,\n",
       " 'information': 519,\n",
       " 'necessary': 520,\n",
       " 'minuteshours': 521,\n",
       " 'anticipated': 522,\n",
       " 'please': 523,\n",
       " 'usual': 524,\n",
       " 'taken': 525,\n",
       " 'week': 526,\n",
       " 'moment': 527,\n",
       " 'conducive': 528,\n",
       " 'prioritizing': 529,\n",
       " 'smooth': 530,\n",
       " 'maintains': 531,\n",
       " 'safely': 532,\n",
       " 'prioritizes': 533,\n",
       " 'throughout': 534,\n",
       " 'miss': 535,\n",
       " 'wellliked': 536,\n",
       " 'frequently': 537,\n",
       " 'itinerary': 538,\n",
       " 'capturing': 539,\n",
       " 'moments': 540,\n",
       " 'charm': 541,\n",
       " 'refreshing': 542,\n",
       " 'receive': 543,\n",
       " 'influx': 544,\n",
       " 'based': 545,\n",
       " 'garner': 546,\n",
       " 'prioritize': 547,\n",
       " 'appeal': 548,\n",
       " 'seeking': 549,\n",
       " 'due': 550,\n",
       " 'rank': 551,\n",
       " 'hearts': 552,\n",
       " 'captivate': 553,\n",
       " 'relaxation': 554,\n",
       " 'attracts': 555,\n",
       " 'garners': 556,\n",
       " 'draws': 557,\n",
       " 'largest': 558,\n",
       " 'standout': 559,\n",
       " 'captures': 560,\n",
       " 'talk': 561,\n",
       " 'mostvisited': 562,\n",
       " 'toppick': 563,\n",
       " 'captivates': 564,\n",
       " 'mustexplore': 565,\n",
       " 'gem': 566,\n",
       " 'all': 567,\n",
       " 'centerpiece': 568,\n",
       " 'talkedabout': 569,\n",
       " 'magnet': 570,\n",
       " 'signature': 571,\n",
       " 'entices': 572,\n",
       " 'such': 573,\n",
       " 'peaceful': 574,\n",
       " 'business': 575,\n",
       " 'rejuvenating': 576,\n",
       " 'beachside': 577,\n",
       " 'accessibility': 578,\n",
       " 'adventure': 579,\n",
       " 'seekers': 580,\n",
       " 'wellness': 581,\n",
       " 'weddings': 582,\n",
       " 'events': 583,\n",
       " 'sports': 584,\n",
       " 'children': 585,\n",
       " 'rated': 586,\n",
       " 'hospitality': 587,\n",
       " 'beach': 588,\n",
       " 'customer': 589,\n",
       " 'serving': 590,\n",
       " 'mouthwatering': 591,\n",
       " 'gained': 592,\n",
       " 'fame': 593,\n",
       " 'flavorful': 594,\n",
       " 'foodies': 595,\n",
       " 'expertise': 596,\n",
       " 'mastery': 597,\n",
       " 'scrumptious': 598,\n",
       " 'tantalizing': 599,\n",
       " 'scene': 600,\n",
       " 'innovation': 601,\n",
       " 'impeccable': 602,\n",
       " 'indulge': 603,\n",
       " 'extensive': 604,\n",
       " 'menu': 605,\n",
       " 'gems': 606,\n",
       " 'textures': 607,\n",
       " 'fusion': 608,\n",
       " 'innovative': 609,\n",
       " 'detail': 610,\n",
       " 'craftsmanship': 611,\n",
       " 'tasty': 612,\n",
       " 'delight': 613,\n",
       " 'cuisines': 614,\n",
       " 'await': 615,\n",
       " 'tastes': 616,\n",
       " 'history': 617,\n",
       " 'reflection': 618,\n",
       " 'discover': 619,\n",
       " 'try': 620,\n",
       " 'classic': 621,\n",
       " 'cherish': 622,\n",
       " 'timehonored': 623,\n",
       " 'beloved': 624,\n",
       " 'integral': 625,\n",
       " 'treasures': 626,\n",
       " 'fabric': 627,\n",
       " 'alike': 628,\n",
       " 'nostalgic': 629,\n",
       " 'treats': 630,\n",
       " 'reside': 631,\n",
       " 'present': 632,\n",
       " 'locality': 633,\n",
       " 'call': 634,\n",
       " 'inhabited': 635,\n",
       " 'today': 636,\n",
       " 'thrive': 637,\n",
       " 'encountered': 638,\n",
       " 'resided': 639,\n",
       " 'clans': 640,\n",
       " 'flourished': 641,\n",
       " 'inhabiting': 642,\n",
       " 'lived': 643,\n",
       " 'nearby': 644,\n",
       " 'occupied': 645,\n",
       " 'made': 646,\n",
       " 'live': 647,\n",
       " 'clothes': 648,\n",
       " 'donned': 649,\n",
       " 'characterized': 650,\n",
       " 'context': 651,\n",
       " 'observance': 652,\n",
       " 'embrace': 653,\n",
       " 'symbolizes': 654,\n",
       " 'observed': 655,\n",
       " 'practice': 656,\n",
       " 'group': 657,\n",
       " 'celebration': 658,\n",
       " 'reflects': 659,\n",
       " 'preserve': 660,\n",
       " 'representative': 661,\n",
       " 'commemorate': 662,\n",
       " 'ceremonies': 663,\n",
       " 'norms': 664,\n",
       " 'importance': 665,\n",
       " 'pay': 666,\n",
       " 'homage': 667,\n",
       " 'uphold': 668,\n",
       " 'connect': 669,\n",
       " 'ancestry': 670,\n",
       " 'deals': 671,\n",
       " 'various': 672,\n",
       " 'occasion': 673,\n",
       " 'maintain': 674}"
      ]
     },
     "execution_count": 12,
     "metadata": {},
     "output_type": "execute_result"
    }
   ],
   "source": [
    "tokenizer.word_index"
   ]
  },
  {
   "cell_type": "code",
   "execution_count": 15,
   "id": "1365f756",
   "metadata": {},
   "outputs": [],
   "source": [
    "from sklearn.model_selection import train_test_split\n",
    "train_features, test_features, train_labels, test_labels = train_test_split(features, labels, test_size=0.2, random_state=42, stratify=labels)\n"
   ]
  },
  {
   "cell_type": "code",
   "execution_count": 16,
   "id": "4dd3fc4d",
   "metadata": {},
   "outputs": [
    {
     "data": {
      "text/plain": [
       "((697, 23), (175, 23))"
      ]
     },
     "execution_count": 16,
     "metadata": {},
     "output_type": "execute_result"
    }
   ],
   "source": [
    "train_features.shape, test_features.shape"
   ]
  },
  {
   "cell_type": "markdown",
   "id": "ec3afa08",
   "metadata": {},
   "source": [
    "### Complex LSTM Model"
   ]
  },
  {
   "cell_type": "code",
   "execution_count": 17,
   "id": "e242d612",
   "metadata": {},
   "outputs": [],
   "source": [
    "# m = Sequential()\n",
    "# m.add(Input(shape=(features.shape[1])))\n",
    "# m.add(Embedding(vocabulary + 1,100))\n",
    "# m.add(Conv1D(filters=32, kernel_size=5, activation=\"relu\", kernel_initializer=tf.keras.initializers.GlorotNormal(),bias_regularizer=tf.keras.regularizers.L2(0.0001), kernel_regularizer=tf.keras.regularizers.L2(0.0001), activity_regularizer = tf.keras.regularizers.L2(0.0001))) \n",
    "# m.add(Dropout(0.3))\n",
    "# m.add(LSTM(32, dropout=0.3,return_sequences=True))\n",
    "# m.add(LSTM(16, dropout=0.3,return_sequences=False))\n",
    "# m.add(Dense(128,activation=\"relu\", activity_regularizer = tf.keras.regularizers.L2(0.0001))) \n",
    "# m.add(Dropout(0.6))\n",
    "# m.add(Dense(output_length, activation=\"softmax\", activity_regularizer = tf.keras.regularizers.L2(0.0001)))"
   ]
  },
  {
   "cell_type": "markdown",
   "id": "94885b01",
   "metadata": {},
   "source": [
    "### simple LSTM model"
   ]
  },
  {
   "cell_type": "code",
   "execution_count": 18,
   "id": "85aa08c4",
   "metadata": {},
   "outputs": [],
   "source": [
    "# m = Sequential()\n",
    "# m.add(Embedding(vocabulary + 1, 100, input_length=input_shape))\n",
    "# m.add(LSTM(64))\n",
    "# m.add(Dense(output_length, activation=\"softmax\"))"
   ]
  },
  {
   "cell_type": "markdown",
   "id": "f2c34e42",
   "metadata": {},
   "source": [
    "### Bidirectional LSTM"
   ]
  },
  {
   "cell_type": "code",
   "execution_count": 19,
   "id": "b9ead8ed",
   "metadata": {},
   "outputs": [],
   "source": [
    "# from tensorflow.keras.layers import Bidirectional\n",
    "\n",
    "# m = Sequential()\n",
    "# m.add(Embedding(vocabulary + 1, 100, input_length=input_shape))\n",
    "# m.add(Bidirectional(LSTM(64)))\n",
    "# m.add(Dense(output_length, activation=\"softmax\"))"
   ]
  },
  {
   "cell_type": "markdown",
   "id": "ad3abe8b",
   "metadata": {},
   "source": [
    "### GRU"
   ]
  },
  {
   "cell_type": "code",
   "execution_count": 20,
   "id": "631951a9",
   "metadata": {},
   "outputs": [],
   "source": [
    "from tensorflow.keras.layers import GRU\n",
    "\n",
    "m = Sequential()\n",
    "m.add(Embedding(vocabulary + 1, 100, input_length=input_shape))\n",
    "m.add(GRU(64))\n",
    "m.add(Dense(output_length, activation=\"softmax\"))"
   ]
  },
  {
   "cell_type": "code",
   "execution_count": 21,
   "id": "2f2bf45e",
   "metadata": {},
   "outputs": [
    {
     "data": {
      "text/plain": [
       "[<keras.layers.core.embedding.Embedding at 0x27d9f4fb8b0>,\n",
       " <keras.layers.rnn.gru.GRU at 0x27d9f4fb250>,\n",
       " <keras.layers.core.dense.Dense at 0x27d9fa22a90>]"
      ]
     },
     "execution_count": 21,
     "metadata": {},
     "output_type": "execute_result"
    }
   ],
   "source": [
    "m.layers"
   ]
  },
  {
   "cell_type": "code",
   "execution_count": 38,
   "id": "4e3b17a4",
   "metadata": {
    "scrolled": true
   },
   "outputs": [
    {
     "name": "stderr",
     "output_type": "stream",
     "text": [
      "  % Total    % Received % Xferd  Average Speed   Time    Time     Time  Current\n",
      "                                 Dload  Upload   Total   Spent    Left  Speed\n",
      "\n",
      "  0     0    0     0    0     0      0      0 --:--:-- --:--:-- --:--:--     0\n",
      "  0     0    0     0    0     0      0      0 --:--:-- --:--:-- --:--:--     0\n",
      "  0     0    0     0    0     0      0      0 --:--:--  0:00:01 --:--:--     0\n",
      "  0     0    0     0    0     0      0      0 --:--:--  0:00:03 --:--:--     0\n",
      "100   346  100   346    0     0     96      0  0:00:03  0:00:03 --:--:--    96\n",
      "100   346  100   346    0     0     96      0  0:00:03  0:00:03 --:--:--    96\n"
     ]
    }
   ],
   "source": [
    "#!curl -O https://nlp.stanford.edu/data/glove.6B.zip"
   ]
  },
  {
   "cell_type": "code",
   "execution_count": 23,
   "id": "f5599571",
   "metadata": {},
   "outputs": [
    {
     "name": "stdout",
     "output_type": "stream",
     "text": [
      "Found 400000 word vectors.\n"
     ]
    }
   ],
   "source": [
    "glove_dir = \"glove.6B.100d.txt\"\n",
    "embeddings_index = {}\n",
    "file_ = open(glove_dir, encoding='utf-8')\n",
    "for line in file_:\n",
    "    arr = line.split()\n",
    "    single_word = arr[0]\n",
    "    w = np.asarray(arr[1:],dtype='float32')\n",
    "    embeddings_index[single_word] = w\n",
    "file_.close()\n",
    "print('Found %s word vectors.' % len(embeddings_index))"
   ]
  },
  {
   "cell_type": "code",
   "execution_count": 24,
   "id": "2210486c",
   "metadata": {},
   "outputs": [],
   "source": [
    "max_words = vocabulary + 1\n",
    "word_index = tokenizer.word_index\n",
    "embedding_matrix = np.zeros((max_words,100)).astype(object)\n",
    "for word , i in word_index.items():\n",
    "        embedding_vector = embeddings_index.get(word)\n",
    "        if embedding_vector is not None:\n",
    "            embedding_matrix[i] = embedding_vector"
   ]
  },
  {
   "cell_type": "code",
   "execution_count": 25,
   "id": "452bdd64",
   "metadata": {},
   "outputs": [],
   "source": [
    "m.layers[0].set_weights([embedding_matrix])\n",
    "m.layers[0].trainable = False\n"
   ]
  },
  {
   "cell_type": "code",
   "execution_count": 26,
   "id": "ba93d728",
   "metadata": {},
   "outputs": [
    {
     "name": "stdout",
     "output_type": "stream",
     "text": [
      "Model: \"sequential\"\n",
      "_________________________________________________________________\n",
      " Layer (type)                Output Shape              Param #   \n",
      "=================================================================\n",
      " embedding (Embedding)       (None, 23, 100)           67500     \n",
      "                                                                 \n",
      " gru (GRU)                   (None, 64)                31872     \n",
      "                                                                 \n",
      " dense (Dense)               (None, 12)                780       \n",
      "                                                                 \n",
      "=================================================================\n",
      "Total params: 100,152\n",
      "Trainable params: 32,652\n",
      "Non-trainable params: 67,500\n",
      "_________________________________________________________________\n"
     ]
    }
   ],
   "source": [
    "m.compile(loss=\"sparse_categorical_crossentropy\",optimizer='adam',metrics=['accuracy'])\n",
    "m.summary()"
   ]
  },
  {
   "cell_type": "code",
   "execution_count": 27,
   "id": "0f329cce",
   "metadata": {},
   "outputs": [],
   "source": [
    "from keras.callbacks import TensorBoard, EarlyStopping\n",
    "earlyStopping = EarlyStopping(monitor = 'accuracy', patience = 10)"
   ]
  },
  {
   "cell_type": "code",
   "execution_count": 28,
   "id": "b62692b9",
   "metadata": {
    "scrolled": false
   },
   "outputs": [
    {
     "name": "stdout",
     "output_type": "stream",
     "text": [
      "Epoch 1/100\n",
      "11/11 [==============================] - 3s 15ms/step - loss: 2.2515 - accuracy: 0.2640\n",
      "Epoch 2/100\n",
      "11/11 [==============================] - 0s 15ms/step - loss: 1.8694 - accuracy: 0.4548\n",
      "Epoch 3/100\n",
      "11/11 [==============================] - 0s 15ms/step - loss: 1.5786 - accuracy: 0.6155\n",
      "Epoch 4/100\n",
      "11/11 [==============================] - 0s 17ms/step - loss: 1.2981 - accuracy: 0.6944\n",
      "Epoch 5/100\n",
      "11/11 [==============================] - 0s 15ms/step - loss: 1.0348 - accuracy: 0.7676\n",
      "Epoch 6/100\n",
      "11/11 [==============================] - 0s 15ms/step - loss: 0.7881 - accuracy: 0.8135\n",
      "Epoch 7/100\n",
      "11/11 [==============================] - 0s 15ms/step - loss: 0.5912 - accuracy: 0.8723\n",
      "Epoch 8/100\n",
      "11/11 [==============================] - 0s 15ms/step - loss: 0.4411 - accuracy: 0.9010\n",
      "Epoch 9/100\n",
      "11/11 [==============================] - 0s 15ms/step - loss: 0.3214 - accuracy: 0.9354\n",
      "Epoch 10/100\n",
      "11/11 [==============================] - 0s 16ms/step - loss: 0.2547 - accuracy: 0.9584\n",
      "Epoch 11/100\n",
      "11/11 [==============================] - 0s 16ms/step - loss: 0.1827 - accuracy: 0.9684\n",
      "Epoch 12/100\n",
      "11/11 [==============================] - 0s 15ms/step - loss: 0.1389 - accuracy: 0.9770\n",
      "Epoch 13/100\n",
      "11/11 [==============================] - 0s 15ms/step - loss: 0.1112 - accuracy: 0.9885\n",
      "Epoch 14/100\n",
      "11/11 [==============================] - 0s 15ms/step - loss: 0.0935 - accuracy: 0.9928\n",
      "Epoch 15/100\n",
      "11/11 [==============================] - 0s 17ms/step - loss: 0.0802 - accuracy: 0.9928\n",
      "Epoch 16/100\n",
      "11/11 [==============================] - 0s 15ms/step - loss: 0.0699 - accuracy: 0.9928\n",
      "Epoch 17/100\n",
      "11/11 [==============================] - 0s 15ms/step - loss: 0.0609 - accuracy: 0.9957\n",
      "Epoch 18/100\n",
      "11/11 [==============================] - 0s 16ms/step - loss: 0.0534 - accuracy: 0.9957\n",
      "Epoch 19/100\n",
      "11/11 [==============================] - 0s 15ms/step - loss: 0.0466 - accuracy: 0.9971\n",
      "Epoch 20/100\n",
      "11/11 [==============================] - 0s 14ms/step - loss: 0.0403 - accuracy: 0.9986\n",
      "Epoch 21/100\n",
      "11/11 [==============================] - 0s 17ms/step - loss: 0.0374 - accuracy: 1.0000\n",
      "Epoch 22/100\n",
      "11/11 [==============================] - 0s 19ms/step - loss: 0.0315 - accuracy: 1.0000\n",
      "Epoch 23/100\n",
      "11/11 [==============================] - 0s 16ms/step - loss: 0.0285 - accuracy: 1.0000\n",
      "Epoch 24/100\n",
      "11/11 [==============================] - 0s 15ms/step - loss: 0.0260 - accuracy: 1.0000\n",
      "Epoch 25/100\n",
      "11/11 [==============================] - 0s 15ms/step - loss: 0.0221 - accuracy: 1.0000\n",
      "Epoch 26/100\n",
      "11/11 [==============================] - 0s 16ms/step - loss: 0.0197 - accuracy: 1.0000\n",
      "Epoch 27/100\n",
      "11/11 [==============================] - 0s 15ms/step - loss: 0.0179 - accuracy: 1.0000\n",
      "Epoch 28/100\n",
      "11/11 [==============================] - 0s 15ms/step - loss: 0.0166 - accuracy: 1.0000\n",
      "Epoch 29/100\n",
      "11/11 [==============================] - 0s 15ms/step - loss: 0.0150 - accuracy: 1.0000\n",
      "Epoch 30/100\n",
      "11/11 [==============================] - 0s 15ms/step - loss: 0.0136 - accuracy: 1.0000\n",
      "Epoch 31/100\n",
      "11/11 [==============================] - 0s 14ms/step - loss: 0.0125 - accuracy: 1.0000\n"
     ]
    }
   ],
   "source": [
    "# history_training = m.fit(features,labels,epochs=100, batch_size=64, callbacks=[ earlyStopping])\n",
    "\n",
    "history_training = m.fit(train_features, train_labels, epochs=100, batch_size=64, callbacks=[earlyStopping])"
   ]
  },
  {
   "cell_type": "code",
   "execution_count": 29,
   "id": "fe9ce05b",
   "metadata": {},
   "outputs": [
    {
     "data": {
      "text/plain": [
       "(1.0, 0.012544757686555386)"
      ]
     },
     "execution_count": 29,
     "metadata": {},
     "output_type": "execute_result"
    }
   ],
   "source": [
    "history_training.history['accuracy'][-1],history_training.history['loss'][-1]"
   ]
  },
  {
   "cell_type": "code",
   "execution_count": 30,
   "id": "665857f1",
   "metadata": {
    "scrolled": false
   },
   "outputs": [
    {
     "data": {
      "image/png": "[encoded data removed]",
      "text/plain": [
       "<Figure size 1000x600 with 1 Axes>"
      ]
     },
     "metadata": {},
     "output_type": "display_data"
    }
   ],
   "source": [
    "def draw_plot(data_dict, type_data):\n",
    "#     mpl.style.use('seaborn')\n",
    "    plt.figure(figsize=(10, 6))\n",
    "    for label, data in data_dict.items():\n",
    "        plt.plot(data, label=label)\n",
    "    plt.xlabel('Epoch')\n",
    "    plt.ylabel(type_data)\n",
    "    plt.legend()\n",
    "    plt.show()\n",
    "\n",
    "data_dict = {\n",
    "    'Accuracy': history_training.history['accuracy'],\n",
    "    'Loss': history_training.history['loss']\n",
    "}\n",
    "\n",
    "draw_plot(data_dict, 'Training Set')\n"
   ]
  },
  {
   "cell_type": "code",
   "execution_count": 31,
   "id": "27c139bd",
   "metadata": {},
   "outputs": [
    {
     "name": "stdout",
     "output_type": "stream",
     "text": [
      "3/3 [==============================] - 1s 8ms/step - loss: 0.0181 - accuracy: 0.9943\n"
     ]
    }
   ],
   "source": [
    "loss, accuracy = m.evaluate(test_features, test_labels, batch_size=64)"
   ]
  },
  {
   "cell_type": "code",
   "execution_count": 33,
   "id": "20eabfb3",
   "metadata": {},
   "outputs": [
    {
     "name": "stdout",
     "output_type": "stream",
     "text": [
      "6/6 [==============================] - 1s 5ms/step\n"
     ]
    },
    {
     "data": {
      "image/png": "[encoded data removed]",
      "text/plain": [
       "<Figure size 1000x800 with 1 Axes>"
      ]
     },
     "metadata": {},
     "output_type": "display_data"
    }
   ],
   "source": [
    "from sklearn.metrics import confusion_matrix\n",
    "import seaborn as sns\n",
    "\n",
    "predictions = m.predict(test_features)\n",
    "predicted_labels = np.argmax(predictions, axis=1)\n",
    "cm = confusion_matrix(test_labels, predicted_labels)\n",
    "plt.figure(figsize=(10, 8))\n",
    "sns.heatmap(cm, annot=True, fmt='d', cmap='Blues', cbar=False)\n",
    "plt.xlabel('Predicted Labels')\n",
    "plt.ylabel('True Labels')\n",
    "plt.show()\n"
   ]
  },
  {
   "cell_type": "code",
   "execution_count": null,
   "id": "d218f0aa",
   "metadata": {},
   "outputs": [],
   "source": []
  },
  {
   "cell_type": "code",
   "execution_count": 34,
   "id": "33a139aa",
   "metadata": {},
   "outputs": [],
   "source": [
    "responses = {\n",
    "  \n",
    "    \"time_duration_by_bus\": [\"9-11 hours\", \"7- 8 hours\", \"11-12 hours\", \"7- 8 hours\", \"5 - 6 hours\"],\n",
    "    \"time_duration_by_air\": [\"30-40 minute\", \"50-60 minute\", \"40-50 minute\", \"60-70 minute\"],\n",
    "    \"suitable_time_for_coxs_bazar\": [\"Night\", \"Day\"],\n",
    "    \"suitable_climate_or_season_for_coxs_bazar\": [\"winter\", \"rainy\", \"summer\"],\n",
    "    \"comfotable_and_safe_transport_for_dahaka to coxsbazar\": [\"Air\", \"Bus\", \"train\"],\n",
    "    \"popular_spot\": [\"Cox's Bazar Beach\", \"Marin Drive\", \"Inani Beach\", \"Laboni Beach\", \"Hima Chori\"],\n",
    "    \"popular_hotel\": [\"Hotel The Cox Today\", \"Praasad Paradise\", \"Seagull Hotels\", \"Praasad Paradise\", \"Sea Pearl Beach Resort & Spa Cox's Bazar\", \"Muscat Holiday Resort\"],\n",
    "    \"popular_restaurants\": [\"Mermaid Cafe\", \"Coral station\", \"Poushee Restaurant\", \"Chui Jhal\"],\n",
    "    \"traditional_food\": [\"Shutki bhorta\", \"Big Rupchada\", \"fish fry\", \"Loitta fry\", \"Muri Ghonto\", \"Shutki bhorta\"],\n",
    "    \"type_of_indigenous_people\": [\"chakma\", \"Tanchangya\", \"marma\", \"Tanchangya\",\n",
    "      \"Bawm \"\n",
    "    ],\n",
    "    \"traditional_clothes\": [\"Pha-khum\", \"punjabi\", \"lingpi\", \"thewa\", \"mekhla\"],\n",
    "    \"cost_effective_shop\": [\"Burmese Market(near cox's bazar)\", \"The Cox City Super Market\", \"K&K Burmese Market\", \"Bangla Bazar Station\"]\n",
    "\n",
    " }"
   ]
  },
  {
   "cell_type": "code",
   "execution_count": 35,
   "id": "aa48a4bb",
   "metadata": {},
   "outputs": [],
   "source": [
    "import random\n",
    "def generate_answer(query):\n",
    "  texts = []\n",
    "  pred_input = query\n",
    "#   pred_input = [letters.lower() for letters in pred_input if letters not in string.punctuation]\n",
    "  pred_input = ''.join(pred_input)\n",
    "  texts.append(pred_input)\n",
    "  pred_input = tokenizer.texts_to_sequences(texts)\n",
    "  pred_input = np.array(pred_input).reshape(-1)\n",
    "  pred_input = pad_sequences([pred_input],input_shape)\n",
    "  output = m.predict(pred_input)\n",
    "  output = output.argmax()\n",
    "  response_tag = le.inverse_transform([output])[0]\n",
    "  return random.choice(responses[response_tag])"
   ]
  },
  {
   "cell_type": "code",
   "execution_count": 36,
   "id": "ddff4eb2",
   "metadata": {},
   "outputs": [
    {
     "name": "stdout",
     "output_type": "stream",
     "text": [
      "you: What are some recommended shops known for their cost-effective options for suitable traditional dress?\n",
      "1/1 [==============================] - 0s 25ms/step\n",
      "Burmese Market(near cox's bazar)\n",
      "you: Where can I find traditional attire that is both suitable and affordable?\n",
      "1/1 [==============================] - 0s 24ms/step\n",
      "K&K Burmese Market\n",
      "you: How much time does the journey from Dhaka to Cox's Bazar take??\n",
      "1/1 [==============================] - 0s 26ms/step\n",
      "7- 8 hours\n"
     ]
    }
   ],
   "source": [
    "list_que = [\"What are some recommended shops known for their cost-effective options for suitable traditional dress?\", \n",
    "            \"Where can I find traditional attire that is both suitable and affordable?\",\n",
    "            \"How much time does the journey from Dhaka to Cox's Bazar take??\"]\n",
    "for i in list_que:\n",
    "  print(\"you: {}\".format(i))\n",
    "  res_tag = generate_answer(i)\n",
    "  print(res_tag)  "
   ]
  },
  {
   "cell_type": "code",
   "execution_count": 37,
   "id": "5b244a73",
   "metadata": {},
   "outputs": [
    {
     "name": "stdout",
     "output_type": "stream",
     "text": [
      "1/1 [==============================] - 0s 25ms/step\n",
      "summer\n"
     ]
    }
   ],
   "source": [
    "query = \"season for travel to coxbazar?\"\n",
    "res_tag = generate_answer(query)\n",
    "print(res_tag)  "
   ]
  },
  {
   "cell_type": "code",
   "execution_count": null,
   "id": "968dc521",
   "metadata": {},
   "outputs": [],
   "source": []
  },
  {
   "cell_type": "code",
   "execution_count": null,
   "id": "03b7a2df",
   "metadata": {},
   "outputs": [],
   "source": []
  }
 ],
 "metadata": {
  "kernelspec": {
   "display_name": "Python 3 (ipykernel)",
   "language": "python",
   "name": "python3"
  },
  "language_info": {
   "codemirror_mode": {
    "name": "ipython",
    "version": 3
   },
   "file_extension": ".py",
   "mimetype": "text/x-python",
   "name": "python",
   "nbconvert_exporter": "python",
   "pygments_lexer": "ipython3",
   "version": "3.8.16"
  }
 },
 "nbformat": 4,
 "nbformat_minor": 5
}
