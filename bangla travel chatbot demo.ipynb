{
 "cells": [
  {
   "cell_type": "markdown",
   "id": "8cd0bfc3",
   "metadata": {},
   "source": [
    "# Bangla Travel Chatbot\n",
    "\n",
    "This is a demo chatbot that answers questions related to travelling inside Bangladesh. The chatbot currently answers from a fix pool of questions or related questions. It will be made context aware in the future using word embeddings.\n",
    "\n",
    "\n",
    "Collaborators: Shuvo Saha Roy, AK Niloy\n"
   ]
  },
  {
   "cell_type": "markdown",
   "id": "a8acca48",
   "metadata": {},
   "source": [
    "Import necessary libraries"
   ]
  },
  {
   "cell_type": "code",
   "execution_count": 1,
   "id": "c5c5ce6c",
   "metadata": {},
   "outputs": [],
   "source": [
    "import tensorflow as tf\n",
    "import pandas as pd\n",
    "import numpy as np\n",
    "import os\n",
    "import io\n",
    "import nltk\n",
    "from tensorflow.keras.preprocessing.text import Tokenizer\n",
    "from tensorflow.keras.layers import Input, Embedding, LSTM , Dense,GlobalAveragePooling1D,Flatten, Dropout , GRU\n",
    "from tensorflow.keras.models import Sequential\n",
    "import matplotlib.pyplot as plt\n",
    "from tensorflow.keras.preprocessing.text import Tokenizer\n",
    "from tensorflow.keras.preprocessing.sequence import pad_sequences\n",
    "from sklearn.preprocessing import LabelEncoder\n",
    "from tensorflow.keras.layers import Conv1D, MaxPool1D"
   ]
  },
  {
   "cell_type": "markdown",
   "id": "0edba4e9",
   "metadata": {},
   "source": [
    "Read dataset"
   ]
  },
  {
   "cell_type": "code",
   "execution_count": 2,
   "id": "c04f498e",
   "metadata": {},
   "outputs": [
    {
     "data": {
      "text/html": [
       "<div>\n",
       "<style scoped>\n",
       "    .dataframe tbody tr th:only-of-type {\n",
       "        vertical-align: middle;\n",
       "    }\n",
       "\n",
       "    .dataframe tbody tr th {\n",
       "        vertical-align: top;\n",
       "    }\n",
       "\n",
       "    .dataframe thead th {\n",
       "        text-align: right;\n",
       "    }\n",
       "</style>\n",
       "<table border=\"1\" class=\"dataframe\">\n",
       "  <thead>\n",
       "    <tr style=\"text-align: right;\">\n",
       "      <th></th>\n",
       "      <th>question</th>\n",
       "      <th>tags</th>\n",
       "    </tr>\n",
       "  </thead>\n",
       "  <tbody>\n",
       "    <tr>\n",
       "      <th>0</th>\n",
       "      <td>What is the duration required for a bus journe...</td>\n",
       "      <td>time_duration_by_bus</td>\n",
       "    </tr>\n",
       "    <tr>\n",
       "      <th>1</th>\n",
       "      <td>Can you tell me how long it takes to travel fr...</td>\n",
       "      <td>time_duration_by_bus</td>\n",
       "    </tr>\n",
       "    <tr>\n",
       "      <th>2</th>\n",
       "      <td>How much time does a bus journey from Dhaka to...</td>\n",
       "      <td>time_duration_by_bus</td>\n",
       "    </tr>\n",
       "    <tr>\n",
       "      <th>3</th>\n",
       "      <td>What's the estimated travel time from Dhaka to...</td>\n",
       "      <td>time_duration_by_bus</td>\n",
       "    </tr>\n",
       "    <tr>\n",
       "      <th>4</th>\n",
       "      <td>Could you inform me about the duration of a bu...</td>\n",
       "      <td>time_duration_by_bus</td>\n",
       "    </tr>\n",
       "  </tbody>\n",
       "</table>\n",
       "</div>"
      ],
      "text/plain": [
       "                                            question                  tags\n",
       "0  What is the duration required for a bus journe...  time_duration_by_bus\n",
       "1  Can you tell me how long it takes to travel fr...  time_duration_by_bus\n",
       "2  How much time does a bus journey from Dhaka to...  time_duration_by_bus\n",
       "3  What's the estimated travel time from Dhaka to...  time_duration_by_bus\n",
       "4  Could you inform me about the duration of a bu...  time_duration_by_bus"
      ]
     },
     "execution_count": 2,
     "metadata": {},
     "output_type": "execute_result"
    }
   ],
   "source": [
    "dataset = pd.read_excel(\"QA_data.xlsx\")\n",
    "# dataset = dataset.sample(frac=1)\n",
    "dataset.head()"
   ]
  },
  {
   "cell_type": "code",
   "execution_count": 3,
   "id": "0a684692",
   "metadata": {},
   "outputs": [],
   "source": [
    "import string\n",
    "dataset['question'] = dataset['question'].apply(lambda sequence:\n",
    "                                            [ltrs.lower() for ltrs in sequence if ltrs not in string.punctuation])"
   ]
  },
  {
   "cell_type": "code",
   "execution_count": 4,
   "id": "6b7d1391",
   "metadata": {},
   "outputs": [
    {
     "data": {
      "text/html": [
       "<div>\n",
       "<style scoped>\n",
       "    .dataframe tbody tr th:only-of-type {\n",
       "        vertical-align: middle;\n",
       "    }\n",
       "\n",
       "    .dataframe tbody tr th {\n",
       "        vertical-align: top;\n",
       "    }\n",
       "\n",
       "    .dataframe thead th {\n",
       "        text-align: right;\n",
       "    }\n",
       "</style>\n",
       "<table border=\"1\" class=\"dataframe\">\n",
       "  <thead>\n",
       "    <tr style=\"text-align: right;\">\n",
       "      <th></th>\n",
       "      <th>question</th>\n",
       "      <th>tags</th>\n",
       "    </tr>\n",
       "  </thead>\n",
       "  <tbody>\n",
       "    <tr>\n",
       "      <th>0</th>\n",
       "      <td>[w, h, a, t,  , i, s,  , t, h, e,  , d, u, r, ...</td>\n",
       "      <td>time_duration_by_bus</td>\n",
       "    </tr>\n",
       "    <tr>\n",
       "      <th>1</th>\n",
       "      <td>[c, a, n,  , y, o, u,  , t, e, l, l,  , m, e, ...</td>\n",
       "      <td>time_duration_by_bus</td>\n",
       "    </tr>\n",
       "    <tr>\n",
       "      <th>2</th>\n",
       "      <td>[h, o, w,  , m, u, c, h,  , t, i, m, e,  , d, ...</td>\n",
       "      <td>time_duration_by_bus</td>\n",
       "    </tr>\n",
       "    <tr>\n",
       "      <th>3</th>\n",
       "      <td>[w, h, a, t, s,  , t, h, e,  , e, s, t, i, m, ...</td>\n",
       "      <td>time_duration_by_bus</td>\n",
       "    </tr>\n",
       "    <tr>\n",
       "      <th>4</th>\n",
       "      <td>[c, o, u, l, d,  , y, o, u,  , i, n, f, o, r, ...</td>\n",
       "      <td>time_duration_by_bus</td>\n",
       "    </tr>\n",
       "  </tbody>\n",
       "</table>\n",
       "</div>"
      ],
      "text/plain": [
       "                                            question                  tags\n",
       "0  [w, h, a, t,  , i, s,  , t, h, e,  , d, u, r, ...  time_duration_by_bus\n",
       "1  [c, a, n,  , y, o, u,  , t, e, l, l,  , m, e, ...  time_duration_by_bus\n",
       "2  [h, o, w,  , m, u, c, h,  , t, i, m, e,  , d, ...  time_duration_by_bus\n",
       "3  [w, h, a, t, s,  , t, h, e,  , e, s, t, i, m, ...  time_duration_by_bus\n",
       "4  [c, o, u, l, d,  , y, o, u,  , i, n, f, o, r, ...  time_duration_by_bus"
      ]
     },
     "execution_count": 4,
     "metadata": {},
     "output_type": "execute_result"
    }
   ],
   "source": [
    "dataset.head()"
   ]
  },
  {
   "cell_type": "code",
   "execution_count": 5,
   "id": "7f0a8ff9",
   "metadata": {},
   "outputs": [
    {
     "data": {
      "text/html": [
       "<div>\n",
       "<style scoped>\n",
       "    .dataframe tbody tr th:only-of-type {\n",
       "        vertical-align: middle;\n",
       "    }\n",
       "\n",
       "    .dataframe tbody tr th {\n",
       "        vertical-align: top;\n",
       "    }\n",
       "\n",
       "    .dataframe thead th {\n",
       "        text-align: right;\n",
       "    }\n",
       "</style>\n",
       "<table border=\"1\" class=\"dataframe\">\n",
       "  <thead>\n",
       "    <tr style=\"text-align: right;\">\n",
       "      <th></th>\n",
       "      <th>question</th>\n",
       "      <th>tags</th>\n",
       "    </tr>\n",
       "  </thead>\n",
       "  <tbody>\n",
       "    <tr>\n",
       "      <th>0</th>\n",
       "      <td>what is the duration required for a bus journe...</td>\n",
       "      <td>time_duration_by_bus</td>\n",
       "    </tr>\n",
       "    <tr>\n",
       "      <th>1</th>\n",
       "      <td>can you tell me how long it takes to travel fr...</td>\n",
       "      <td>time_duration_by_bus</td>\n",
       "    </tr>\n",
       "    <tr>\n",
       "      <th>2</th>\n",
       "      <td>how much time does a bus journey from dhaka to...</td>\n",
       "      <td>time_duration_by_bus</td>\n",
       "    </tr>\n",
       "    <tr>\n",
       "      <th>3</th>\n",
       "      <td>whats the estimated travel time from dhaka to ...</td>\n",
       "      <td>time_duration_by_bus</td>\n",
       "    </tr>\n",
       "    <tr>\n",
       "      <th>4</th>\n",
       "      <td>could you inform me about the duration of a bu...</td>\n",
       "      <td>time_duration_by_bus</td>\n",
       "    </tr>\n",
       "  </tbody>\n",
       "</table>\n",
       "</div>"
      ],
      "text/plain": [
       "                                            question                  tags\n",
       "0  what is the duration required for a bus journe...  time_duration_by_bus\n",
       "1  can you tell me how long it takes to travel fr...  time_duration_by_bus\n",
       "2  how much time does a bus journey from dhaka to...  time_duration_by_bus\n",
       "3  whats the estimated travel time from dhaka to ...  time_duration_by_bus\n",
       "4  could you inform me about the duration of a bu...  time_duration_by_bus"
      ]
     },
     "execution_count": 5,
     "metadata": {},
     "output_type": "execute_result"
    }
   ],
   "source": [
    "dataset['question'] = dataset['question'].apply(lambda wrd: ''.join(wrd))\n",
    "dataset.head()"
   ]
  },
  {
   "cell_type": "markdown",
   "id": "befde192",
   "metadata": {},
   "source": [
    "Convert the input and the output into tokens. Here the output is the tags that \n",
    "the chatbot needs to search for a particular question. Each word is represented with a numeric value"
   ]
  },
  {
   "cell_type": "code",
   "execution_count": 26,
   "id": "c4032abf",
   "metadata": {},
   "outputs": [
    {
     "name": "stdout",
     "output_type": "stream",
     "text": [
      "tag_sample: time_duration_by_bus\n",
      "Length of a input feature : 23\n",
      "Shape of input feature : (872, 23)\n",
      "Example of an input feature : [  0   0   0   0   0   0   0   0   0   7  11   1 115 133   5  18  31  37\n",
      "  14  13   9   2   3]\n"
     ]
    }
   ],
   "source": [
    "tokenizer = Tokenizer(num_words=1000)\n",
    "tokenizer.fit_on_texts(dataset['question'])\n",
    "train = tokenizer.texts_to_sequences(dataset['question'])\n",
    "features = pad_sequences(train)\n",
    "le = LabelEncoder()\n",
    "labels = le.fit_transform(dataset['tags'])\n",
    "tag_sample = le.inverse_transform(labels)[0]\n",
    "print(f'tag_sample: {tag_sample}')\n",
    "print(f'Length of a input feature : {len(features[0])}')\n",
    "print(f'Shape of input feature : {features.shape}')\n",
    "print(f'Example of an input feature : {features[0]}')"
   ]
  },
  {
   "cell_type": "code",
   "execution_count": null,
   "id": "ccf50af1",
   "metadata": {},
   "outputs": [],
   "source": []
  },
  {
   "cell_type": "markdown",
   "id": "d537cf7d",
   "metadata": {
    "scrolled": true
   },
   "source": [
    "Check the number of unique words in the dataset."
   ]
  },
  {
   "cell_type": "code",
   "execution_count": 75,
   "id": "2655dadc",
   "metadata": {
    "scrolled": true
   },
   "outputs": [
    {
     "name": "stdout",
     "output_type": "stream",
     "text": [
      "number of unique words :  674\n",
      "output length:  12\n",
      "{'the': 1, 'coxs': 2, 'bazar': 3, 'in': 4, 'for': 5, 'are': 6, 'what': 7, 'which': 8, 'to': 9, 'and': 10, 'is': 11, 'of': 12, 'dhaka': 13, 'from': 14, 'traditional': 15, 'that': 16, 'this': 17, 'a': 18, 'town': 19, 'most': 20, 'suitable': 21, 'resorts': 22, 'their': 23, 'time': 24, 'or': 25, 'recommended': 26, 'tourists': 27, 'comfortable': 28, 'travel': 29, 'can': 30, 'bus': 31, 'offer': 32, 'food': 33, 'coxbazar': 34, 'dress': 35, 'season': 36, 'journey': 37, 'options': 38, 'suitability': 39, 'how': 40, 'tourist': 41, 'i': 42, 'known': 43, 'you': 44, 'attire': 45, 'best': 46, 'stay': 47, 'clothing': 48, 'shops': 49, 'experience': 50, 'preferred': 51, 'traveling': 52, 'by': 53, 'provide': 54, 'spots': 55, 'resort': 56, 'specific': 57, 'transportation': 58, 'have': 59, 'where': 60, 'popular': 61, 'costeffective': 62, 'be': 63, 'culinary': 64, 'mode': 65, 'highly': 66, 'hotels': 67, 'restaurants': 68, 'there': 69, 'cultural': 70, 'indigenous': 71, 'spot': 72, 'both': 73, 'area': 74, 'dining': 75, 'dishes': 76, 'trip': 77, 'between': 78, 'when': 79, 'transport': 80, 'famous': 81, 'renowned': 82, 'native': 83, 'flight': 84, 'find': 85, 'it': 86, 'stores': 87, 'on': 88, 'any': 89, 'heritage': 90, 'whats': 91, 'would': 92, 'secure': 93, 'comfort': 94, 'safety': 95, 'hotel': 96, 'prices': 97, 'should': 98, 'do': 99, 'particular': 100, 'safe': 101, 'option': 102, 'among': 103, 'establishments': 104, 'customary': 105, 'people': 106, 'affordable': 107, 'me': 108, 'offers': 109, 'reliable': 110, 'considered': 111, 'top': 112, 'bazars': 113, 'outfits': 114, 'duration': 115, 'ideal': 116, 'service': 117, 'attractions': 118, 'places': 119, 'place': 120, 'some': 121, 'toprated': 122, 'memorable': 123, 'cuisine': 124, 'at': 125, 'kind': 126, 'here': 127, 'traditionally': 128, 'take': 129, 'with': 130, 'an': 131, 'without': 132, 'required': 133, 'long': 134, 'riskfree': 135, 'way': 136, 'showcase': 137, 'amenities': 138, 'much': 139, 'provides': 140, 'traditions': 141, 'local': 142, 'choices': 143, 'accommodations': 144, 'garments': 145, 'while': 146, 'affordability': 147, 'recommend': 148, 'convenient': 149, 'company': 150, 'its': 151, 'historical': 152, 'budgetfriendly': 153, 'foods': 154, 'culture': 155, 'suggest': 156, 'does': 157, 'air': 158, 'go': 159, 'passenger': 160, 'attraction': 161, 'value': 162, 'flavors': 163, 'items': 164, 'who': 165, 'many': 166, 'reach': 167, 'back': 168, 'method': 169, 'safest': 170, 'worryfree': 171, 'ensures': 172, 'destinations': 173, 'landmarks': 174, 'significance': 175, 'exceptional': 176, 'facilities': 177, 'relaxing': 178, 'money': 179, 'groups': 180, 'type': 181, 'typically': 182, 'my': 183, 'hours': 184, 'day': 185, 'appropriate': 186, 'optimal': 187, 'fit': 188, 'guarantees': 189, 'visitors': 190, 'iconic': 191, 'travelers': 192, 'wellknown': 193, 'natural': 194, 'enthusiasts': 195, 'region': 196, 'services': 197, 'pleasant': 198, 'eateries': 199, 'joints': 200, 'tradition': 201, 'peoples': 202, 'land': 203, 'worn': 204, 'compromising': 205, 'comes': 206, 'takes': 207, 'estimated': 208, 'could': 209, 'about': 210, 'im': 211, 'know': 212, 'fly': 213, 'year': 214, 'wellsuited': 215, 'lowrisk': 216, 'operator': 217, 'route': 218, 'attract': 219, 'mustvisit': 220, 'interest': 221, 'destination': 222, 'visit': 223, 'recreational': 224, 'views': 225, 'sites': 226, 'site': 227, 'terms': 228, 'customs': 229, 'communities': 230, 'inhabitants': 231, 'tribes': 232, 'specialize': 233, 'ensuring': 234, 'being': 235, 'balance': 236, 'tell': 237, 'average': 238, 'favorable': 239, 'perfect': 240, 'means': 241, 'choice': 242, 'available': 243, 'maintaining': 244, 'goto': 245, 'delightful': 246, 'passed': 247, 'still': 248, 'living': 249, 'residing': 250, 'cultures': 251, 'community': 252, 'budget': 253, 'strike': 254, 'good': 255, 'give': 256, 'need': 257, 'will': 258, 'frame': 259, 'vice': 260, 'versa': 261, 'peace': 262, 'mind': 263, 'standards': 264, 'during': 265, 'essence': 266, 'scenic': 267, 'landscapes': 268, 'architectural': 269, 'favored': 270, 'ambiance': 271, 'hold': 272, 'rich': 273, 'breathtaking': 274, 'attention': 275, 'favorites': 276, 'as': 277, 'accommodation': 278, 'quality': 279, 'delicious': 280, 'delectable': 281, 'experiences': 282, 'gastronomic': 283, 'celebrated': 284, 'meals': 285, 'authentic': 286, 'musttry': 287, 'recipes': 288, 'down': 289, 'through': 290, 'generations': 291, 'identity': 292, 'carry': 293, 'found': 294, 'populations': 295, 'original': 296, 'roots': 297, 'societies': 298, 'tribal': 299, 'territory': 300, 'ancestral': 301, 'robes': 302, 'associated': 303, 'inform': 304, 'approximate': 305, 'needed': 306, 'get': 307, 'curious': 308, 'expect': 309, 'estimate': 310, 'commitment': 311, 'slot': 312, 'month': 313, 'opportune': 314, 'advantageous': 315, 'advisable': 316, 'desirable': 317, 'combines': 318, 'security': 319, 'trustworthy': 320, 'high': 321, 'shouldnt': 322, 'sights': 323, 'contribute': 324, 'popularity': 325, 'every': 326, 'visiting': 327, 'beauty': 328, 'highlights': 329, 'unique': 330, 'mustsee': 331, 'leisure': 332, 'activities': 333, 'wellloved': 334, 'coxbazars': 335, 'frequented': 336, 'insights': 337, 'into': 338, 'tranquil': 339, 'outdoor': 340, 'exploration': 341, 'entertainment': 342, 'nature': 343, 'capture': 344, 'retreat': 345, 'regions': 346, 'unforgettable': 347, 'landmark': 348, 'highlight': 349, 'topnotch': 350, 'satisfying': 351, 'convenience': 352, 'lodging': 353, 'recommendations': 354, 'getaway': 355, 'shopping': 356, 'regarded': 357, 'excellence': 358, 'offerings': 359, 'locals': 360, 'ingredients': 361, 'enjoy': 362, 'specialties': 363, 'preparations': 364, 'longstanding': 365, 'legacy': 366, 'historically': 367, 'nations': 368, 'thrived': 369, 'code': 370, 'range': 371, 'reasonable': 372, 'also': 373, 'selection': 374, 'offering': 375, 'needs': 376, 'remaining': 377, 'let': 378, 'typical': 379, 'spend': 380, 'expected': 381, 'if': 382, 'choose': 383, 'id': 384, 'like': 385, 'allocate': 386, 'planning': 387, 'approximation': 388, 'flying': 389, 'period': 390, 'embark': 391, 'fitting': 392, 'suited': 393, 'hasslefree': 394, 'form': 395, 'comfortably': 396, 'risks': 397, 'providing': 398, 'dependable': 399, 'highest': 400, 'draw': 401, 'large': 402, 'number': 403, 'make': 404, 'visited': 405, 'points': 406, 'favorite': 407, 'diversity': 408, 'embody': 409, 'stunning': 410, 'picturesque': 411, 'brilliance': 412, 'captivating': 413, 'wonders': 414, 'serene': 415, 'opportunities': 416, 'adventures': 417, 'beaches': 418, 'coastal': 419, 'areas': 420, 'experiencing': 421, 'vibrant': 422, 'markets': 423, 'religious': 424, 'reserves': 425, 'wildlife': 426, 'sanctuaries': 427, 'marvels': 428, 'viewpoints': 429, 'observation': 430, 'decks': 431, 'panoramic': 432, 'vistas': 433, 'waterfalls': 434, 'parks': 435, 'gardens': 436, 'museums': 437, 'past': 438, 'soughtafter': 439, 'missed': 440, 'list': 441, 'special': 442, 'exemplify': 443, 'hotspot': 444, 'prime': 445, 'stands': 446, 'out': 447, 'selections': 448, 'enjoyable': 449, 'luxurious': 450, 'romantic': 451, 'families': 452, 'proximity': 453, 'lovers': 454, 'vacation': 455, 'topranked': 456, 'delights': 457, 'creations': 458, 'serve': 459, 'praised': 460, 'become': 461, 'synonymous': 462, 'blend': 463, 'taste': 464, 'dine': 465, 'savor': 466, 'delicacies': 467, 'represent': 468, 'gastronomy': 469, 'been': 470, 'used': 471, 'reflect': 472, 'stood': 473, 'test': 474, 'part': 475, 'cooking': 476, 'techniques': 477, 'practices': 478, 'deeply': 479, 'rooted': 480, 'define': 481, 'symbolize': 482, 'home': 483, 'presence': 484, 'settled': 485, 'connection': 486, 'vicinity': 487, 'bands': 488, 'ties': 489, 'connections': 490, 'society': 491, 'accordance': 492, 'represents': 493, 'communitys': 494, 'honor': 495, 'occasions': 496, 'adherence': 497, 'reflective': 498, 'societys': 499, 'express': 500, 'ancestors': 501, 'values': 502, 'generation': 503, 'sacrificing': 504, 'wide': 505, 'pocketfriendly': 506, 'shop': 507, 'diverse': 508, 'breaking': 509, 'bank': 510, 'reasonably': 511, 'priced': 512, 'yet': 513, 'wondering': 514, 'idea': 515, 'ride': 516, 'including': 517, 'traffic': 518, 'information': 519, 'necessary': 520, 'minuteshours': 521, 'anticipated': 522, 'please': 523, 'usual': 524, 'taken': 525, 'week': 526, 'moment': 527, 'conducive': 528, 'prioritizing': 529, 'smooth': 530, 'maintains': 531, 'safely': 532, 'prioritizes': 533, 'throughout': 534, 'miss': 535, 'wellliked': 536, 'frequently': 537, 'itinerary': 538, 'capturing': 539, 'moments': 540, 'charm': 541, 'refreshing': 542, 'receive': 543, 'influx': 544, 'based': 545, 'garner': 546, 'prioritize': 547, 'appeal': 548, 'seeking': 549, 'due': 550, 'rank': 551, 'hearts': 552, 'captivate': 553, 'relaxation': 554, 'attracts': 555, 'garners': 556, 'draws': 557, 'largest': 558, 'standout': 559, 'captures': 560, 'talk': 561, 'mostvisited': 562, 'toppick': 563, 'captivates': 564, 'mustexplore': 565, 'gem': 566, 'all': 567, 'centerpiece': 568, 'talkedabout': 569, 'magnet': 570, 'signature': 571, 'entices': 572, 'such': 573, 'peaceful': 574, 'business': 575, 'rejuvenating': 576, 'beachside': 577, 'accessibility': 578, 'adventure': 579, 'seekers': 580, 'wellness': 581, 'weddings': 582, 'events': 583, 'sports': 584, 'children': 585, 'rated': 586, 'hospitality': 587, 'beach': 588, 'customer': 589, 'serving': 590, 'mouthwatering': 591, 'gained': 592, 'fame': 593, 'flavorful': 594, 'foodies': 595, 'expertise': 596, 'mastery': 597, 'scrumptious': 598, 'tantalizing': 599, 'scene': 600, 'innovation': 601, 'impeccable': 602, 'indulge': 603, 'extensive': 604, 'menu': 605, 'gems': 606, 'textures': 607, 'fusion': 608, 'innovative': 609, 'detail': 610, 'craftsmanship': 611, 'tasty': 612, 'delight': 613, 'cuisines': 614, 'await': 615, 'tastes': 616, 'history': 617, 'reflection': 618, 'discover': 619, 'try': 620, 'classic': 621, 'cherish': 622, 'timehonored': 623, 'beloved': 624, 'integral': 625, 'treasures': 626, 'fabric': 627, 'alike': 628, 'nostalgic': 629, 'treats': 630, 'reside': 631, 'present': 632, 'locality': 633, 'call': 634, 'inhabited': 635, 'today': 636, 'thrive': 637, 'encountered': 638, 'resided': 639, 'clans': 640, 'flourished': 641, 'inhabiting': 642, 'lived': 643, 'nearby': 644, 'occupied': 645, 'made': 646, 'live': 647, 'clothes': 648, 'donned': 649, 'characterized': 650, 'context': 651, 'observance': 652, 'embrace': 653, 'symbolizes': 654, 'observed': 655, 'practice': 656, 'group': 657, 'celebration': 658, 'reflects': 659, 'preserve': 660, 'representative': 661, 'commemorate': 662, 'ceremonies': 663, 'norms': 664, 'importance': 665, 'pay': 666, 'homage': 667, 'uphold': 668, 'connect': 669, 'ancestry': 670, 'deals': 671, 'various': 672, 'occasion': 673, 'maintain': 674}\n"
     ]
    }
   ],
   "source": [
    "vocabulary = len(tokenizer.word_index)\n",
    "print(\"number of unique words : \",vocabulary)\n",
    "output_length = le.classes_.shape[0]\n",
    "print(\"output length: \",output_length)\n",
    "print(tokenizer.word_index)"
   ]
  },
  {
   "cell_type": "markdown",
   "id": "188931a9",
   "metadata": {
    "scrolled": true
   },
   "source": [
    "Train test split the dataset"
   ]
  },
  {
   "cell_type": "code",
   "execution_count": 59,
   "id": "1365f756",
   "metadata": {},
   "outputs": [
    {
     "name": "stdout",
     "output_type": "stream",
     "text": [
      "train_features : (697, 23), test_features: (175, 23)\n"
     ]
    }
   ],
   "source": [
    "from sklearn.model_selection import train_test_split\n",
    "train_features, test_features, train_labels, test_labels = train_test_split(features, labels, test_size=0.2, random_state=42, stratify=labels)\n",
    "print(f'train_features : {train_features.shape}, test_features: {test_features.shape}')"
   ]
  },
  {
   "cell_type": "code",
   "execution_count": null,
   "id": "4dd3fc4d",
   "metadata": {},
   "outputs": [],
   "source": []
  },
  {
   "cell_type": "markdown",
   "id": "ec3afa08",
   "metadata": {},
   "source": [
    "### Complex LSTM Model"
   ]
  },
  {
   "cell_type": "code",
   "execution_count": 60,
   "id": "e242d612",
   "metadata": {},
   "outputs": [],
   "source": [
    "# m = Sequential()\n",
    "# m.add(Input(shape=(features.shape[1])))\n",
    "# m.add(Embedding(vocabulary + 1,100))\n",
    "# m.add(Conv1D(filters=32, kernel_size=5, activation=\"relu\", kernel_initializer=tf.keras.initializers.GlorotNormal(),bias_regularizer=tf.keras.regularizers.L2(0.0001), kernel_regularizer=tf.keras.regularizers.L2(0.0001), activity_regularizer = tf.keras.regularizers.L2(0.0001))) \n",
    "# m.add(Dropout(0.3))\n",
    "# m.add(LSTM(32, dropout=0.3,return_sequences=True))\n",
    "# m.add(LSTM(16, dropout=0.3,return_sequences=False))\n",
    "# m.add(Dense(128,activation=\"relu\", activity_regularizer = tf.keras.regularizers.L2(0.0001))) \n",
    "# m.add(Dropout(0.6))\n",
    "# m.add(Dense(output_length, activation=\"softmax\", activity_regularizer = tf.keras.regularizers.L2(0.0001)))"
   ]
  },
  {
   "cell_type": "markdown",
   "id": "94885b01",
   "metadata": {},
   "source": [
    "### simple LSTM model"
   ]
  },
  {
   "cell_type": "code",
   "execution_count": 61,
   "id": "85aa08c4",
   "metadata": {},
   "outputs": [],
   "source": [
    "# m = Sequential()\n",
    "# m.add(Embedding(vocabulary + 1, 100, input_length=input_shape))\n",
    "# m.add(LSTM(64))\n",
    "# m.add(Dense(output_length, activation=\"softmax\"))"
   ]
  },
  {
   "cell_type": "markdown",
   "id": "f2c34e42",
   "metadata": {},
   "source": [
    "### Bidirectional LSTM"
   ]
  },
  {
   "cell_type": "code",
   "execution_count": 62,
   "id": "b9ead8ed",
   "metadata": {},
   "outputs": [],
   "source": [
    "# from tensorflow.keras.layers import Bidirectional\n",
    "\n",
    "# m = Sequential()\n",
    "# m.add(Embedding(vocabulary + 1, 100, input_length=input_shape))\n",
    "# m.add(Bidirectional(LSTM(64)))\n",
    "# m.add(Dense(output_length, activation=\"softmax\"))"
   ]
  },
  {
   "cell_type": "markdown",
   "id": "ad3abe8b",
   "metadata": {},
   "source": [
    "### GRU"
   ]
  },
  {
   "cell_type": "code",
   "execution_count": 82,
   "id": "631951a9",
   "metadata": {},
   "outputs": [],
   "source": [
    "from tensorflow.keras.layers import GRU\n",
    "\n",
    "def model(vocabulary):\n",
    "    x = Sequential()\n",
    "    x.add(Embedding(vocabulary + 1, 100, input_length=input_shape))\n",
    "    x.add(GRU(64))\n",
    "    x.add(Dense(output_length, activation=\"softmax\"))\n",
    "    return x\n",
    "\n"
   ]
  },
  {
   "cell_type": "code",
   "execution_count": 83,
   "id": "2f2bf45e",
   "metadata": {},
   "outputs": [],
   "source": [
    "model = model(vocabulary)"
   ]
  },
  {
   "cell_type": "markdown",
   "id": "6dc80411",
   "metadata": {
    "scrolled": true
   },
   "source": [
    "Download the glove.6B.100d.txt file and put it in the root folder.\n",
    "\n",
    "!curl -O https://nlp.stanford.edu/data/glove.6B.zip\n",
    "\n",
    "Global Vectors for Word Representation. This is a word corpus that is used for context later on."
   ]
  },
  {
   "cell_type": "code",
   "execution_count": 84,
   "id": "f5599571",
   "metadata": {},
   "outputs": [
    {
     "name": "stdout",
     "output_type": "stream",
     "text": [
      "Found 400000 word vectors.\n"
     ]
    }
   ],
   "source": [
    "glove_dir = \"glove.6B.100d.txt\"\n",
    "embeddings_index = {}\n",
    "file_ = open(glove_dir, encoding='utf-8')\n",
    "for line in file_:\n",
    "    arr = line.split()\n",
    "    single_word = arr[0]\n",
    "    w = np.asarray(arr[1:],dtype='float32')\n",
    "    embeddings_index[single_word] = w\n",
    "file_.close()\n",
    "print('Found %s word vectors.' % len(embeddings_index))"
   ]
  },
  {
   "cell_type": "code",
   "execution_count": 85,
   "id": "2210486c",
   "metadata": {},
   "outputs": [
    {
     "name": "stdout",
     "output_type": "stream",
     "text": [
      "Embedded Matrix : (675, 100)\n",
      "Embedded Matrix sample : [0.36774998903274536 -0.1048400029540062 0.05081599950790405\n",
      " -0.1679999977350235 -0.763949990272522 0.9455500245094299\n",
      " 0.0660799965262413 0.5367100238800049 -0.7136899828910828\n",
      " 0.9945899844169617 -0.6243799924850464 -0.43386998772621155\n",
      " 1.1196000576019287 0.20298999547958374 0.4173699915409088\n",
      " -0.020253999158740044 0.26385000348091125 0.013458999805152416\n",
      " 0.4102500081062317 -0.5462700128555298 -0.16118000447750092\n",
      " -0.7106800079345703 0.1806199997663498 -0.44475001096725464\n",
      " -0.10215000063180923 0.3942599892616272 -0.36469998955726624\n",
      " -0.7273499965667725 -0.40536999702453613 -0.8830199837684631\n",
      " 0.05053599923849106 -0.22916999459266663 -0.35819000005722046\n",
      " -0.6256099939346313 0.81045001745224 0.6374499797821045\n",
      " -0.2487500011920929 -0.07460799813270569 -0.5765399932861328\n",
      " -0.06300999969244003 0.19922000169754028 0.1475600004196167\n",
      " 0.33441999554634094 0.31435999274253845 -0.8565000295639038\n",
      " -0.8796200156211853 0.13707999885082245 0.4270400106906891\n",
      " 0.6142200231552124 -0.4596799910068512 0.09517399966716766\n",
      " 0.13030000030994415 0.22103999555110931 0.45407000184059143\n",
      " -0.4959399998188019 -0.38207998871803284 -0.06680499762296677\n",
      " 0.10588999837636948 0.5373799800872803 0.3279699981212616\n",
      " -0.44826000928878784 0.11855000257492065 0.12228000164031982\n",
      " 0.292930006980896 0.16066999733448029 -0.5183699727058411\n",
      " 0.3411799967288971 -0.7781199812889099 0.18262000381946564\n",
      " 0.034359000623226166 -0.41363999247550964 -0.7278599739074707\n",
      " -0.3885500133037567 0.04291599988937378 0.02380399964749813\n",
      " 0.48958998918533325 -0.14158999919891357 0.10967999696731567\n",
      " 0.8154100179672241 -0.5654199719429016 -0.3972199857234955\n",
      " -0.7555800080299377 0.8085299730300903 -0.5511999726295471\n",
      " -0.48962000012397766 -0.06066000089049339 -0.9726099967956543\n",
      " 0.08796200156211853 0.17779000103473663 0.03804999962449074\n",
      " 0.5526700019836426 -0.49077001214027405 0.8001899719238281\n",
      " -0.4103200137615204 0.04294300079345703 0.004229799844324589\n",
      " -0.9019700288772583 -0.3158299922943115 0.23522000014781952\n",
      " 0.638949990272522]\n"
     ]
    }
   ],
   "source": [
    "max_words = vocabulary + 1\n",
    "word_index = tokenizer.word_index\n",
    "embedding_matrix = np.zeros((max_words,100)).astype(object)\n",
    "for word , i in word_index.items():\n",
    "        embedding_vector = embeddings_index.get(word)\n",
    "        if embedding_vector is not None:\n",
    "            embedding_matrix[i] = embedding_vector\n",
    "print(f'Embedded Matrix : {embedding_matrix.shape}')\n",
    "print(f'Embedded Matrix sample : {embedding_matrix[45]}')"
   ]
  },
  {
   "cell_type": "markdown",
   "id": "1b60f6e7",
   "metadata": {},
   "source": [
    "# Training"
   ]
  },
  {
   "cell_type": "code",
   "execution_count": 86,
   "id": "452bdd64",
   "metadata": {},
   "outputs": [],
   "source": [
    "model.layers[0].set_weights([embedding_matrix])\n",
    "model.layers[0].trainable = True\n"
   ]
  },
  {
   "cell_type": "code",
   "execution_count": 87,
   "id": "ba93d728",
   "metadata": {},
   "outputs": [
    {
     "name": "stdout",
     "output_type": "stream",
     "text": [
      "Model: \"sequential_5\"\n",
      "_________________________________________________________________\n",
      " Layer (type)                Output Shape              Param #   \n",
      "=================================================================\n",
      " embedding_5 (Embedding)     (None, 23, 100)           67500     \n",
      "                                                                 \n",
      " gru_5 (GRU)                 (None, 64)                31872     \n",
      "                                                                 \n",
      " dense_5 (Dense)             (None, 12)                780       \n",
      "                                                                 \n",
      "=================================================================\n",
      "Total params: 100,152\n",
      "Trainable params: 100,152\n",
      "Non-trainable params: 0\n",
      "_________________________________________________________________\n"
     ]
    }
   ],
   "source": [
    "model.compile(loss=\"sparse_categorical_crossentropy\",optimizer='adam',metrics=['accuracy'])\n",
    "model.summary()"
   ]
  },
  {
   "cell_type": "code",
   "execution_count": 88,
   "id": "0f329cce",
   "metadata": {},
   "outputs": [],
   "source": [
    "from keras.callbacks import TensorBoard, EarlyStopping\n",
    "earlyStopping = EarlyStopping(monitor = 'accuracy', patience = 10)"
   ]
  },
  {
   "cell_type": "code",
   "execution_count": 90,
   "id": "b62692b9",
   "metadata": {
    "scrolled": false
   },
   "outputs": [
    {
     "name": "stdout",
     "output_type": "stream",
     "text": [
      "Epoch 1/100\n",
      "11/11 [==============================] - 3s 19ms/step - loss: 2.3735 - accuracy: 0.2339\n",
      "Epoch 2/100\n",
      "11/11 [==============================] - 0s 17ms/step - loss: 1.8910 - accuracy: 0.3917\n",
      "Epoch 3/100\n",
      "11/11 [==============================] - 0s 17ms/step - loss: 1.5778 - accuracy: 0.5495\n",
      "Epoch 4/100\n",
      "11/11 [==============================] - 0s 16ms/step - loss: 1.2962 - accuracy: 0.6829\n",
      "Epoch 5/100\n",
      "11/11 [==============================] - 0s 16ms/step - loss: 1.0091 - accuracy: 0.7920\n",
      "Epoch 6/100\n",
      "11/11 [==============================] - 0s 20ms/step - loss: 0.7484 - accuracy: 0.8680\n",
      "Epoch 7/100\n",
      "11/11 [==============================] - 0s 17ms/step - loss: 0.5238 - accuracy: 0.9067\n",
      "Epoch 8/100\n",
      "11/11 [==============================] - 0s 17ms/step - loss: 0.3675 - accuracy: 0.9283\n",
      "Epoch 9/100\n",
      "11/11 [==============================] - 0s 16ms/step - loss: 0.2621 - accuracy: 0.9412\n",
      "Epoch 10/100\n",
      "11/11 [==============================] - 0s 18ms/step - loss: 0.1840 - accuracy: 0.9770\n",
      "Epoch 11/100\n",
      "11/11 [==============================] - 0s 18ms/step - loss: 0.1350 - accuracy: 0.9871\n",
      "Epoch 12/100\n",
      "11/11 [==============================] - 0s 18ms/step - loss: 0.1044 - accuracy: 0.9871\n",
      "Epoch 13/100\n",
      "11/11 [==============================] - 0s 22ms/step - loss: 0.0836 - accuracy: 0.9928\n",
      "Epoch 14/100\n",
      "11/11 [==============================] - 0s 16ms/step - loss: 0.0678 - accuracy: 0.9971\n",
      "Epoch 15/100\n",
      "11/11 [==============================] - 0s 16ms/step - loss: 0.0552 - accuracy: 0.9957\n",
      "Epoch 16/100\n",
      "11/11 [==============================] - 0s 19ms/step - loss: 0.0445 - accuracy: 1.0000\n",
      "Epoch 17/100\n",
      "11/11 [==============================] - 0s 17ms/step - loss: 0.0367 - accuracy: 1.0000\n",
      "Epoch 18/100\n",
      "11/11 [==============================] - 0s 17ms/step - loss: 0.0307 - accuracy: 1.0000\n",
      "Epoch 19/100\n",
      "11/11 [==============================] - 0s 17ms/step - loss: 0.0262 - accuracy: 1.0000\n",
      "Epoch 20/100\n",
      "11/11 [==============================] - 0s 17ms/step - loss: 0.0223 - accuracy: 1.0000\n",
      "Epoch 21/100\n",
      "11/11 [==============================] - 0s 19ms/step - loss: 0.0195 - accuracy: 1.0000\n",
      "Epoch 22/100\n",
      "11/11 [==============================] - 0s 17ms/step - loss: 0.0173 - accuracy: 1.0000\n",
      "Epoch 23/100\n",
      "11/11 [==============================] - 0s 17ms/step - loss: 0.0154 - accuracy: 1.0000\n",
      "Epoch 24/100\n",
      "11/11 [==============================] - 0s 16ms/step - loss: 0.0140 - accuracy: 1.0000\n",
      "Epoch 25/100\n",
      "11/11 [==============================] - 0s 16ms/step - loss: 0.0127 - accuracy: 1.0000\n",
      "Epoch 26/100\n",
      "11/11 [==============================] - 0s 16ms/step - loss: 0.0117 - accuracy: 1.0000\n"
     ]
    }
   ],
   "source": [
    "# history_training = m.fit(features,labels,epochs=100, batch_size=64, callbacks=[ earlyStopping])\n",
    "\n",
    "history_training = model.fit(train_features, train_labels, epochs=100, batch_size=64, callbacks=[earlyStopping])"
   ]
  },
  {
   "cell_type": "code",
   "execution_count": 91,
   "id": "fe9ce05b",
   "metadata": {},
   "outputs": [
    {
     "data": {
      "text/plain": [
       "(1.0, 0.011721491813659668)"
      ]
     },
     "execution_count": 91,
     "metadata": {},
     "output_type": "execute_result"
    }
   ],
   "source": [
    "history_training.history['accuracy'][-1],history_training.history['loss'][-1]"
   ]
  },
  {
   "cell_type": "markdown",
   "id": "abf70e57",
   "metadata": {},
   "source": [
    "# Testing"
   ]
  },
  {
   "cell_type": "code",
   "execution_count": 92,
   "id": "665857f1",
   "metadata": {
    "scrolled": false
   },
   "outputs": [
    {
     "data": {
      "image/png": "[encoded data removed]",
      "text/plain": [
       "<Figure size 1000x600 with 1 Axes>"
      ]
     },
     "metadata": {},
     "output_type": "display_data"
    }
   ],
   "source": [
    "def draw_plot(data_dict, type_data):\n",
    "#     mpl.style.use('seaborn')\n",
    "    plt.figure(figsize=(10, 6))\n",
    "    for label, data in data_dict.items():\n",
    "        plt.plot(data, label=label)\n",
    "    plt.xlabel('Epoch')\n",
    "    plt.ylabel(type_data)\n",
    "    plt.legend()\n",
    "    plt.show()\n",
    "\n",
    "data_dict = {\n",
    "    'Accuracy': history_training.history['accuracy'],\n",
    "    'Loss': history_training.history['loss']\n",
    "}\n",
    "\n",
    "draw_plot(data_dict, 'Training Set')\n"
   ]
  },
  {
   "cell_type": "code",
   "execution_count": 96,
   "id": "27c139bd",
   "metadata": {},
   "outputs": [
    {
     "name": "stdout",
     "output_type": "stream",
     "text": [
      "3/3 [==============================] - 1s 7ms/step - loss: 0.0195 - accuracy: 1.0000\n"
     ]
    }
   ],
   "source": [
    "loss, accuracy = model.evaluate(test_features, test_labels, batch_size=64)"
   ]
  },
  {
   "cell_type": "code",
   "execution_count": 102,
   "id": "20eabfb3",
   "metadata": {},
   "outputs": [
    {
     "name": "stdout",
     "output_type": "stream",
     "text": [
      "6/6 [==============================] - 0s 4ms/step\n"
     ]
    },
    {
     "data": {
      "image/png": "[encoded data removed]",
      "text/plain": [
       "<Figure size 1000x800 with 1 Axes>"
      ]
     },
     "metadata": {},
     "output_type": "display_data"
    }
   ],
   "source": [
    "#confusion matrix\n",
    "from sklearn.metrics import confusion_matrix\n",
    "import seaborn as sns\n",
    "\n",
    "predictions = model.predict(test_features)\n",
    "predicted_labels = np.argmax(predictions, axis=1)\n",
    "cm = confusion_matrix(test_labels, predicted_labels)\n",
    "plt.figure(figsize=(10, 8))\n",
    "sns.heatmap(cm, annot=True, fmt='d', cmap='Blues', cbar=False)\n",
    "plt.xlabel('Predicted Labels')\n",
    "plt.ylabel('True Labels')\n",
    "plt.show()\n"
   ]
  },
  {
   "cell_type": "markdown",
   "id": "5bfb7e7f",
   "metadata": {},
   "source": [
    "For the initial step, some predefined responses will be generated from the list of answers below. This will be updated soon."
   ]
  },
  {
   "cell_type": "code",
   "execution_count": 98,
   "id": "33a139aa",
   "metadata": {},
   "outputs": [],
   "source": [
    "responses = {\n",
    "  \n",
    "    \"time_duration_by_bus\": [\"9-11 hours\", \"7- 8 hours\", \"11-12 hours\", \"7- 8 hours\", \"5 - 6 hours\"],\n",
    "    \"time_duration_by_air\": [\"30-40 minute\", \"50-60 minute\", \"40-50 minute\", \"60-70 minute\"],\n",
    "    \"suitable_time_for_coxs_bazar\": [\"Night\", \"Day\"],\n",
    "    \"suitable_climate_or_season_for_coxs_bazar\": [\"winter\", \"rainy\", \"summer\"],\n",
    "    \"comfotable_and_safe_transport_for_dahaka to coxsbazar\": [\"Air\", \"Bus\", \"train\"],\n",
    "    \"popular_spot\": [\"Cox's Bazar Beach\", \"Marin Drive\", \"Inani Beach\", \"Laboni Beach\", \"Hima Chori\"],\n",
    "    \"popular_hotel\": [\"Hotel The Cox Today\", \"Praasad Paradise\", \"Seagull Hotels\", \"Praasad Paradise\", \"Sea Pearl Beach Resort & Spa Cox's Bazar\", \"Muscat Holiday Resort\"],\n",
    "    \"popular_restaurants\": [\"Mermaid Cafe\", \"Coral station\", \"Poushee Restaurant\", \"Chui Jhal\"],\n",
    "    \"traditional_food\": [\"Shutki bhorta\", \"Big Rupchada\", \"fish fry\", \"Loitta fry\", \"Muri Ghonto\", \"Shutki bhorta\"],\n",
    "    \"type_of_indigenous_people\": [\"chakma\", \"Tanchangya\", \"marma\", \"Tanchangya\",\n",
    "      \"Bawm \"\n",
    "    ],\n",
    "    \"traditional_clothes\": [\"Pha-khum\", \"punjabi\", \"lingpi\", \"thewa\", \"mekhla\"],\n",
    "    \"cost_effective_shop\": [\"Burmese Market(near cox's bazar)\", \"The Cox City Super Market\", \"K&K Burmese Market\", \"Bangla Bazar Station\"]\n",
    "\n",
    " }"
   ]
  },
  {
   "cell_type": "code",
   "execution_count": 100,
   "id": "aa48a4bb",
   "metadata": {},
   "outputs": [],
   "source": [
    "import random\n",
    "def generate_answer(query):\n",
    "  texts = []\n",
    "  pred_input = query\n",
    "#   pred_input = [letters.lower() for letters in pred_input if letters not in string.punctuation]\n",
    "  pred_input = ''.join(pred_input)\n",
    "  texts.append(pred_input)\n",
    "  pred_input = tokenizer.texts_to_sequences(texts)\n",
    "  pred_input = np.array(pred_input).reshape(-1)\n",
    "  pred_input = pad_sequences([pred_input],input_shape)\n",
    "  output = model.predict(pred_input)\n",
    "  output = output.argmax()\n",
    "  response_tag = le.inverse_transform([output])[0]\n",
    "  return random.choice(responses[response_tag])"
   ]
  },
  {
   "cell_type": "code",
   "execution_count": 101,
   "id": "ddff4eb2",
   "metadata": {},
   "outputs": [
    {
     "name": "stdout",
     "output_type": "stream",
     "text": [
      "you: What are some recommended shops known for their cost-effective options for suitable traditional dress?\n",
      "1/1 [==============================] - 0s 26ms/step\n",
      "K&K Burmese Market\n",
      "you: Where can I find traditional attire that is both suitable and affordable?\n",
      "1/1 [==============================] - 0s 23ms/step\n",
      "Burmese Market(near cox's bazar)\n",
      "you: How much time does the journey from Dhaka to Cox's Bazar take??\n",
      "1/1 [==============================] - 0s 31ms/step\n",
      "5 - 6 hours\n"
     ]
    }
   ],
   "source": [
    "list_que = [\"What are some recommended shops known for their cost-effective options for suitable traditional dress?\", \n",
    "            \"Where can I find traditional attire that is both suitable and affordable?\",\n",
    "            \"How much time does the journey from Dhaka to Cox's Bazar take??\"]\n",
    "for i in list_que:\n",
    "  print(\"you: {}\".format(i))\n",
    "  res_tag = generate_answer(i)\n",
    "  print(res_tag)  "
   ]
  },
  {
   "cell_type": "code",
   "execution_count": 37,
   "id": "5b244a73",
   "metadata": {},
   "outputs": [
    {
     "name": "stdout",
     "output_type": "stream",
     "text": [
      "1/1 [==============================] - 0s 25ms/step\n",
      "summer\n"
     ]
    }
   ],
   "source": [
    "query = \"season for travel to coxbazar?\"\n",
    "res_tag = generate_answer(query)\n",
    "print(res_tag)  "
   ]
  },
  {
   "cell_type": "code",
   "execution_count": null,
   "id": "968dc521",
   "metadata": {},
   "outputs": [],
   "source": []
  },
  {
   "cell_type": "code",
   "execution_count": null,
   "id": "03b7a2df",
   "metadata": {},
   "outputs": [],
   "source": []
  }
 ],
 "metadata": {
  "kernelspec": {
   "display_name": "Python 3 (ipykernel)",
   "language": "python",
   "name": "python3"
  },
  "language_info": {
   "codemirror_mode": {
    "name": "ipython",
    "version": 3
   },
   "file_extension": ".py",
   "mimetype": "text/x-python",
   "name": "python",
   "nbconvert_exporter": "python",
   "pygments_lexer": "ipython3",
   "version": "3.8.16"
  }
 },
 "nbformat": 4,
 "nbformat_minor": 5
}
